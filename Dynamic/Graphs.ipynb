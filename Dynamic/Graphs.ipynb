{
 "metadata": {
  "name": ""
 },
 "nbformat": 3,
 "nbformat_minor": 0,
 "worksheets": [
  {
   "cells": [
    {
     "cell_type": "code",
     "collapsed": false,
     "input": [
      "#this is not really necessary\n",
      "from operator import itemgetter\n"
     ],
     "language": "python",
     "metadata": {},
     "outputs": [],
     "prompt_number": 42
    },
    {
     "cell_type": "code",
     "collapsed": false,
     "input": [
      "# Our graph\n",
      "graph = {0:[1,3],\n",
      "         2:[5,3,4],\n",
      "         3:[1,4],\n",
      "         1:[2,5],\n",
      "         4:[5]\n",
      "         }"
     ],
     "language": "python",
     "metadata": {},
     "outputs": [],
     "prompt_number": 44
    },
    {
     "cell_type": "code",
     "collapsed": false,
     "input": [
      "#Defining our costs as a function of t\n",
      "def costs(i,j,t=0):\n",
      "    cost = {\n",
      "             (0,3):1,\n",
      "             (0,1):1,\n",
      "             (2,5):1,\n",
      "             (2,3):2*t,\n",
      "             (3,1):2*t,\n",
      "             (3,4):2*t+2,\n",
      "             (4,5):2*t+1,\n",
      "             (1,2):t-1,\n",
      "             (2,4):t-1,\n",
      "             (1,5):t-1,\n",
      "             }\n",
      "    if (i,j) in cost: \n",
      "        return cost[(i,j)]\n",
      "    else:\n",
      "        return float(\"inf\")"
     ],
     "language": "python",
     "metadata": {},
     "outputs": [],
     "prompt_number": 45
    },
    {
     "cell_type": "code",
     "collapsed": false,
     "input": [
      "#let's see if our function does anything at all! \n",
      "costs(4,5,3)"
     ],
     "language": "python",
     "metadata": {},
     "outputs": [
      {
       "metadata": {},
       "output_type": "pyout",
       "prompt_number": 47,
       "text": [
        "7"
       ]
      }
     ],
     "prompt_number": 47
    },
    {
     "cell_type": "code",
     "collapsed": false,
     "input": [
      "#determine all vertices, which is basically the set of all nodes, we'll call it items\n",
      "items = set()\n",
      "\n",
      "for i,j in graph.items():\n",
      "    items.add(i)\n",
      "    for i2 in j: items.add(i2)\n",
      "print items"
     ],
     "language": "python",
     "metadata": {},
     "outputs": [
      {
       "output_type": "stream",
       "stream": "stdout",
       "text": [
        "set([0, 1, 2, 3, 4, 5])\n"
       ]
      }
     ],
     "prompt_number": 48
    },
    {
     "cell_type": "code",
     "collapsed": false,
     "input": [
      "# Cost graph from Point (row) to Point (column) at t=2, \n",
      "t=2\n",
      "C = [[costs(i,j,t) for j in items] for i in items]\n",
      "C"
     ],
     "language": "python",
     "metadata": {},
     "outputs": [
      {
       "metadata": {},
       "output_type": "pyout",
       "prompt_number": 31,
       "text": [
        "[[inf, 1, inf, 1, inf, inf],\n",
        " [inf, inf, 1, inf, inf, 1],\n",
        " [inf, inf, inf, 4, 1, 1],\n",
        " [inf, 4, inf, inf, 6, inf],\n",
        " [inf, inf, inf, inf, inf, 5],\n",
        " [inf, inf, inf, inf, inf, inf]]"
       ]
      }
     ],
     "prompt_number": 31
    },
    {
     "cell_type": "code",
     "collapsed": false,
     "input": [],
     "language": "python",
     "metadata": {},
     "outputs": [],
     "prompt_number": 31
    },
    {
     "cell_type": "code",
     "collapsed": false,
     "input": [
      "# Let's simulate our first step to see if it works, C is the Cost matrix\n",
      "t=0\n",
      "position = 0\n",
      "C =[]\n",
      "\n",
      "C.append( [ (costs(position,i,t),position) for i in items] )\n",
      "print C"
     ],
     "language": "python",
     "metadata": {},
     "outputs": [
      {
       "output_type": "stream",
       "stream": "stdout",
       "text": [
        "[[(inf, 0), (1, 0), (inf, 0), (1, 0), (inf, 0), (inf, 0)]]\n"
       ]
      }
     ],
     "prompt_number": 49
    },
    {
     "cell_type": "code",
     "collapsed": false,
     "input": [
      "t+=1\n",
      "C2 =[]\n",
      "for target in items:\n",
      "    C1 = [(costs(i,target,t)+ C[t-1][i][0],i) for i in items]\n",
      "    C2.append( min(C1, key=itemgetter(0)))\n",
      "C.append(C2)    "
     ],
     "language": "python",
     "metadata": {},
     "outputs": [],
     "prompt_number": 50
    },
    {
     "cell_type": "code",
     "collapsed": false,
     "input": [
      "C = []\n",
      "position = 0\n",
      "\n",
      "for t in range(5+5):\n",
      "    if t==0:\n",
      "        C.append( [ (costs(position,i,t),position) for i in items] )\n",
      "    else:\n",
      "        C2 =[]\n",
      "        for target in items:\n",
      "            C1 = [(costs(i,target,t)+ C[t-1][i][0],i) for i in items]\n",
      "            C2.append( min(C1, key=itemgetter(0)))\n",
      "        C.append(C2)\n"
     ],
     "language": "python",
     "metadata": {},
     "outputs": [],
     "prompt_number": 51
    },
    {
     "cell_type": "code",
     "collapsed": false,
     "input": [
      "#The same thing as above, but nicer.\n",
      "C = []\n",
      "# number of steps\n",
      "n = 10\n",
      "position = 0\n",
      "\n",
      "for t in range(n):\n",
      "    if t==0:\n",
      "        C.append( [ (costs(position,i,t),position) for i in items] )\n",
      "    else:\n",
      "        C2 =[]\n",
      "        for target in items:\n",
      "            C2.append( min([(costs(i,target,t)+ C[t-1][i][0],i) for i in items]))\n",
      "            \n",
      "        C.append(C2)"
     ],
     "language": "python",
     "metadata": {},
     "outputs": [],
     "prompt_number": 57
    },
    {
     "cell_type": "code",
     "collapsed": false,
     "input": [
      "# destination\n",
      "destination = 3\n",
      "path = [destination]\n",
      "for i in range(len(C)-1,-1,-1):\n",
      "    path.append(C[i][path[len(path)-1]][1])"
     ],
     "language": "python",
     "metadata": {},
     "outputs": [],
     "prompt_number": 63
    },
    {
     "cell_type": "code",
     "collapsed": false,
     "input": [
      "C"
     ],
     "language": "python",
     "metadata": {},
     "outputs": [
      {
       "metadata": {},
       "output_type": "pyout",
       "prompt_number": 64,
       "text": [
        "[[(inf, 0), (1, 0), (inf, 0), (1, 0), (inf, 0), (inf, 0)],\n",
        " [(inf, 0), (3, 3), (1, 1), (inf, 0), (5, 3), (1, 1)],\n",
        " [(inf, 0), (inf, 0), (4, 1), (5, 2), (2, 2), (2, 2)],\n",
        " [(inf, 0), (11, 3), (inf, 0), (10, 2), (6, 2), (5, 2)],\n",
        " [(inf, 0), (18, 3), (14, 1), (inf, 0), (20, 3), (14, 1)],\n",
        " [(inf, 0), (inf, 0), (22, 1), (24, 2), (18, 2), (15, 2)],\n",
        " [(inf, 0), (36, 3), (inf, 0), (34, 2), (27, 2), (23, 2)],\n",
        " [(inf, 0), (48, 3), (42, 1), (inf, 0), (50, 3), (42, 1)],\n",
        " [(inf, 0), (inf, 0), (55, 1), (58, 2), (49, 2), (43, 2)],\n",
        " [(inf, 0), (76, 3), (inf, 0), (73, 2), (63, 2), (56, 2)]]"
       ]
      }
     ],
     "prompt_number": 64
    },
    {
     "cell_type": "code",
     "collapsed": false,
     "input": [
      "path"
     ],
     "language": "python",
     "metadata": {},
     "outputs": [
      {
       "metadata": {},
       "output_type": "pyout",
       "prompt_number": 65,
       "text": [
        "[3, 2, 1, 3, 2, 1, 3, 2, 1, 3, 0]"
       ]
      }
     ],
     "prompt_number": 65
    },
    {
     "cell_type": "code",
     "collapsed": false,
     "input": [],
     "language": "python",
     "metadata": {},
     "outputs": [],
     "prompt_number": 41
    },
    {
     "cell_type": "code",
     "collapsed": false,
     "input": [],
     "language": "python",
     "metadata": {},
     "outputs": []
    }
   ],
   "metadata": {}
  }
 ]
}