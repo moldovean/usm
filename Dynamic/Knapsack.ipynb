{
 "metadata": {
  "name": ""
 },
 "nbformat": 3,
 "nbformat_minor": 0,
 "worksheets": [
  {
   "cells": [
    {
     "cell_type": "markdown",
     "metadata": {},
     "source": [
      "# Knapsack Problem Lab 3"
     ]
    },
    {
     "cell_type": "code",
     "collapsed": false,
     "input": [
      "import operator\n"
     ],
     "language": "python",
     "metadata": {},
     "outputs": [],
     "prompt_number": 117
    },
    {
     "cell_type": "code",
     "collapsed": false,
     "input": [
      "objects = {0:0, 2:2, 4:9, 6:30, 10:19}\n",
      "volume = 19\n"
     ],
     "language": "python",
     "metadata": {},
     "outputs": [],
     "prompt_number": 118
    },
    {
     "cell_type": "code",
     "collapsed": false,
     "input": [
      "#print max(objects.iteritems(), key = operator.itemgetter(1))[0]\n",
      "#print max(objects)"
     ],
     "language": "python",
     "metadata": {},
     "outputs": [],
     "prompt_number": 119
    },
    {
     "cell_type": "code",
     "collapsed": false,
     "input": [
      "solutions = {}"
     ],
     "language": "python",
     "metadata": {},
     "outputs": [],
     "prompt_number": 120
    },
    {
     "cell_type": "code",
     "collapsed": false,
     "input": [
      "len(solutions)"
     ],
     "language": "python",
     "metadata": {},
     "outputs": [
      {
       "metadata": {},
       "output_type": "pyout",
       "prompt_number": 121,
       "text": [
        "0"
       ]
      }
     ],
     "prompt_number": 121
    },
    {
     "cell_type": "code",
     "collapsed": false,
     "input": [
      "def max_values(vol):\n",
      "    global solutions, intermediate\n",
      "    if vol == 0:\n",
      "        return 0\n",
      "    if vol ==1:\n",
      "        try:\n",
      "            return objects(vol)\n",
      "        except:\n",
      "            return 0\n",
      "            \n",
      "    \n",
      "    if vol in solutions:\n",
      "        return solutions[vol]\n",
      "    else:\n",
      "        intermediate = []\n",
      "        for i in range(1,len(solutions)):\n",
      "            intermediate.append(max_values(vol-i) + max_values(i))\n",
      "        print intermediate\n",
      "        return max(intermediate)\n",
      "            \n",
      "        #intermediate = [max_values(vol-solutions[i]) + max_values(solutions[i]) for i in range(1, len(solutions))]\n",
      "                  \n",
      "        \n",
      "    \n",
      "        "
     ],
     "language": "python",
     "metadata": {},
     "outputs": [],
     "prompt_number": 122
    },
    {
     "cell_type": "code",
     "collapsed": false,
     "input": [
      "for i in range(volume+1):\n",
      "    if i in objects:\n",
      "        max_value = max([max_values(i), objects[i]])\n",
      "    else:\n",
      "        max_value = max_values(i)\n",
      "    solutions[i] = max_value"
     ],
     "language": "python",
     "metadata": {},
     "outputs": [
      {
       "output_type": "stream",
       "stream": "stdout",
       "text": [
        "[0]\n",
        "[2, 2]\n",
        "[2, 4, 2]\n",
        "[9, 4, 4, 9]\n",
        "[9, 11, 4, 11, 9]\n",
        "[30, 11, 11, 11, 11, 30]\n",
        "[30, 32, 11, 18, 11, 32, 30]\n",
        "[32, 32, 32, 18, 18, 32, 32, 32]\n",
        "[32, 34, 32, 39, 18, 39, 32, 34, 32]\n",
        "[39, 34, 34, 39, 39, 39, 39, 34, 34, 39]\n",
        "[39, 41, 34, 41, 39, 60, 39, 41, 34, 41, 39]\n",
        "[60, 41, 41, 41, 41, 60, 60, 41, 41, 41, 41, 60]\n",
        "[60, 62, 41, 48, 41, 62, 60, 62, 41, 48, 41, 62, 60]\n",
        "[62, 62, 62, 48, 48, 62, 62, 62, 62, 48, 48, 62, 62, 62]\n",
        "[62, 64, 62, 69, 48, 69, 62, 64, 62, 69, 48, 69, 62, 64, 62]\n",
        "[69, 64, 64, 69, 69, 69, 69, 64, 64, 69, 69, 69, 69, 64, 64, 69]\n",
        "[69, 71, 64, 71, 69, 90, 69, 71, 64, 71, 69, 90, 69, 71, 64, 71, 69]\n",
        "[90, 71, 71, 71, 71, 90, 90, 71, 71, 71, 71, 90, 90, 71, 71, 71, 71, 90]\n"
       ]
      }
     ],
     "prompt_number": 123
    },
    {
     "cell_type": "code",
     "collapsed": false,
     "input": [
      "solutions"
     ],
     "language": "python",
     "metadata": {},
     "outputs": [
      {
       "metadata": {},
       "output_type": "pyout",
       "prompt_number": 124,
       "text": [
        "{0: 0,\n",
        " 1: 0,\n",
        " 2: 2,\n",
        " 3: 2,\n",
        " 4: 9,\n",
        " 5: 9,\n",
        " 6: 30,\n",
        " 7: 30,\n",
        " 8: 32,\n",
        " 9: 32,\n",
        " 10: 39,\n",
        " 11: 39,\n",
        " 12: 60,\n",
        " 13: 60,\n",
        " 14: 62,\n",
        " 15: 62,\n",
        " 16: 69,\n",
        " 17: 69,\n",
        " 18: 90,\n",
        " 19: 90}"
       ]
      }
     ],
     "prompt_number": 124
    },
    {
     "cell_type": "code",
     "collapsed": false,
     "input": [],
     "language": "python",
     "metadata": {},
     "outputs": [],
     "prompt_number": 124
    },
    {
     "cell_type": "code",
     "collapsed": false,
     "input": [
      "solutions\n"
     ],
     "language": "python",
     "metadata": {},
     "outputs": [
      {
       "metadata": {},
       "output_type": "pyout",
       "prompt_number": 43,
       "text": [
        "{0: 1, 1: 2, 4: 5}"
       ]
      }
     ],
     "prompt_number": 43
    },
    {
     "cell_type": "code",
     "collapsed": false,
     "input": [],
     "language": "python",
     "metadata": {},
     "outputs": []
    }
   ],
   "metadata": {}
  }
 ]
}