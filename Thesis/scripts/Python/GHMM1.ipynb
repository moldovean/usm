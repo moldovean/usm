{
 "cells": [
  {
   "cell_type": "code",
   "execution_count": 1,
   "metadata": {
    "collapsed": true
   },
   "outputs": [],
   "source": [
    "import ghmm"
   ]
  },
  {
   "cell_type": "code",
   "execution_count": 2,
   "metadata": {
    "collapsed": false
   },
   "outputs": [],
   "source": [
    "A = [[0.9, 0.1], [0.3, 0.7]]\n",
    "efair = [1.0 / 6] * 6\n",
    "eloaded = [3.0 / 13, 3.0 / 13, 2.0 / 13, 2.0 / 13, 2.0 / 13, 1.0 / 13]\n",
    "sigma = ghmm.IntegerRange(1,7)\n",
    "B = [efair, eloaded]\n",
    "pi = [0.5]*2\n",
    "m = ghmm.HMMFromMatrices(sigma, ghmm.DiscreteDistribution(sigma), A, B, pi)"
   ]
  },
  {
   "cell_type": "code",
   "execution_count": 3,
   "metadata": {
    "collapsed": false
   },
   "outputs": [
    {
     "name": "stdout",
     "output_type": "stream",
     "text": [
      "DiscreteEmissionHMM(N=2, M=6)\n",
      "  state 0 (initial=0.50)\n",
      "    Emissions: 0.17, 0.17, 0.17, 0.17, 0.17, 0.17\n",
      "    Transitions: ->0 (0.90), ->1 (0.10)\n",
      "  state 1 (initial=0.50)\n",
      "    Emissions: 0.23, 0.23, 0.15, 0.15, 0.15, 0.08\n",
      "    Transitions: ->0 (0.30), ->1 (0.70)\n",
      "\n"
     ]
    }
   ],
   "source": [
    "print(m)"
   ]
  },
  {
   "cell_type": "code",
   "execution_count": 13,
   "metadata": {
    "collapsed": false
   },
   "outputs": [],
   "source": [
    "obs_seq = m.sampleSingle(30)"
   ]
  },
  {
   "cell_type": "code",
   "execution_count": 14,
   "metadata": {
    "collapsed": false
   },
   "outputs": [
    {
     "name": "stdout",
     "output_type": "stream",
     "text": [
      "212163356413431231635245414226\n"
     ]
    }
   ],
   "source": [
    "print obs_seq\n",
    "sigma = ghmm.IntegerRange(1,7)\n",
    "obs = map(sigma.external, obs_seq)"
   ]
  },
  {
   "cell_type": "code",
   "execution_count": 15,
   "metadata": {
    "collapsed": false
   },
   "outputs": [
    {
     "name": "stdout",
     "output_type": "stream",
     "text": [
      "[2, 1, 2, 1, 6, 3, 3, 5, 6, 4, 1, 3, 4, 3, 1, 2, 3, 1, 6, 3, 5, 2, 4, 5, 4, 1, 4, 2, 2, 6]\n"
     ]
    }
   ],
   "source": [
    "print obs"
   ]
  },
  {
   "cell_type": "code",
   "execution_count": 24,
   "metadata": {
    "collapsed": true
   },
   "outputs": [],
   "source": [
    "A = [[0.9, 0.1], [0.2, 0.8]]\n",
    "efair = [1.0 / 2] * 2\n",
    "eloaded = [0.15, 0.85]\n",
    "sigma = ghmm.IntegerRange(0,2)\n",
    "B = [efair, eloaded]\n",
    "pi = [0.5]*2\n",
    "m = ghmm.HMMFromMatrices(sigma, ghmm.DiscreteDistribution(sigma), A, B, pi)"
   ]
  },
  {
   "cell_type": "code",
   "execution_count": 25,
   "metadata": {
    "collapsed": false
   },
   "outputs": [
    {
     "name": "stdout",
     "output_type": "stream",
     "text": [
      "DiscreteEmissionHMM(N=2, M=2)\n",
      "  state 0 (initial=0.50)\n",
      "    Emissions: 0.50, 0.50\n",
      "    Transitions: ->0 (0.90), ->1 (0.10)\n",
      "  state 1 (initial=0.50)\n",
      "    Emissions: 0.15, 0.85\n",
      "    Transitions: ->0 (0.20), ->1 (0.80)\n",
      "\n"
     ]
    }
   ],
   "source": [
    "print m"
   ]
  },
  {
   "cell_type": "code",
   "execution_count": 26,
   "metadata": {
    "collapsed": true
   },
   "outputs": [],
   "source": [
    "obs_seq = m.sampleSingle(40)\n",
    "obs = map(sigma.external, obs_seq)"
   ]
  },
  {
   "cell_type": "code",
   "execution_count": 27,
   "metadata": {
    "collapsed": false
   },
   "outputs": [
    {
     "name": "stdout",
     "output_type": "stream",
     "text": [
      "[1, 1, 0, 0, 1, 1, 1, 1, 1, 1, 1, 0, 0, 1, 1, 0, 1, 0, 0, 1, 0, 1, 0, 1, 0, 0, 0, 0, 0, 0, 1, 0, 1, 0, 0, 1, 1, 0, 1, 0]\n"
     ]
    }
   ],
   "source": [
    "print obs"
   ]
  },
  {
   "cell_type": "code",
   "execution_count": 29,
   "metadata": {
    "collapsed": false
   },
   "outputs": [
    {
     "name": "stdout",
     "output_type": "stream",
     "text": [
      "[[0.15, 0.85], [0.15, 0.85], [0.5, 0.5], [0.5, 0.5], [0.15, 0.85], [0.15, 0.85], [0.15, 0.85], [0.15, 0.85], [0.15, 0.85], [0.15, 0.85], [0.15, 0.85], [0.5, 0.5], [0.5, 0.5], [0.15, 0.85], [0.15, 0.85], [0.5, 0.5], [0.15, 0.85], [0.5, 0.5], [0.5, 0.5], [0.15, 0.85], [0.5, 0.5], [0.15, 0.85], [0.5, 0.5], [0.15, 0.85], [0.5, 0.5], [0.5, 0.5], [0.5, 0.5], [0.5, 0.5], [0.5, 0.5], [0.5, 0.5], [0.15, 0.85], [0.5, 0.5], [0.15, 0.85], [0.5, 0.5], [0.5, 0.5], [0.15, 0.85], [0.15, 0.85], [0.5, 0.5], [0.15, 0.85], [0.5, 0.5]]\n"
     ]
    }
   ],
   "source": []
  },
  {
   "cell_type": "code",
   "execution_count": null,
   "metadata": {
    "collapsed": true
   },
   "outputs": [],
   "source": []
  }
 ],
 "metadata": {
  "kernelspec": {
   "display_name": "Python 2",
   "language": "python",
   "name": "python2"
  },
  "language_info": {
   "codemirror_mode": {
    "name": "ipython",
    "version": 2
   },
   "file_extension": ".py",
   "mimetype": "text/x-python",
   "name": "python",
   "nbconvert_exporter": "python",
   "pygments_lexer": "ipython2",
   "version": "2.7.11+"
  }
 },
 "nbformat": 4,
 "nbformat_minor": 0
}
