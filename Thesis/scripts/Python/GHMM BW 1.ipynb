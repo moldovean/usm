{
 "cells": [
  {
   "cell_type": "code",
   "execution_count": 1,
   "metadata": {
    "collapsed": true
   },
   "outputs": [],
   "source": [
    "import ghmm"
   ]
  },
  {
   "cell_type": "code",
   "execution_count": 2,
   "metadata": {
    "collapsed": false
   },
   "outputs": [],
   "source": [
    "from ghmm import *"
   ]
  },
  {
   "cell_type": "code",
   "execution_count": 3,
   "metadata": {
    "collapsed": false
   },
   "outputs": [
    {
     "name": "stdout",
     "output_type": "stream",
     "text": [
      "<Alphabet:['a', 'c', 't', 'g']>\n"
     ]
    }
   ],
   "source": [
    "dna = ['a','c','t','g']\n",
    "sigma = Alphabet(dna)\n",
    "print sigma"
   ]
  },
  {
   "cell_type": "code",
   "execution_count": 4,
   "metadata": {
    "collapsed": false
   },
   "outputs": [
    {
     "name": "stdout",
     "output_type": "stream",
     "text": [
      "DiscreteEmissionHMM(N=2, M=4)\n",
      "  state 0 (initial=0.50)\n",
      "    Emissions: 0.25, 0.15, 0.35, 0.25\n",
      "    Transitions: ->0 (0.90), ->1 (0.10)\n",
      "  state 1 (initial=0.50)\n",
      "    Emissions: 0.25, 0.25, 0.25, 0.25\n",
      "    Transitions: ->0 (0.30), ->1 (0.70)\n",
      "\n",
      "tctggcgcctttatatgtcacctctgttatagagtgagctaggcttgtag\n"
     ]
    }
   ],
   "source": [
    "# Simulation of DNA\n",
    "A = [[0.9, 0.1], [0.3, 0.7]]\n",
    "normal = [.25,.15,.35,.25]\n",
    "island = [.25,.25,.25,.25]\n",
    "B=[normal,island]\n",
    "pi = [0.5] * 2\n",
    "m=HMMFromMatrices(sigma,DiscreteDistribution(sigma),A,B,pi)\n",
    "print m\n",
    "obs_seq = m.sampleSingle(50)\n",
    "print obs_seq"
   ]
  },
  {
   "cell_type": "code",
   "execution_count": 8,
   "metadata": {
    "collapsed": true
   },
   "outputs": [],
   "source": [
    "# Baum Welch algorithm to training\n",
    "## Train Data\n",
    "train_seq = EmissionSequence(sigma, [\n",
    "'g', 'c', 'c', 'g', 'g', 'c', 'g', 'c', 'g', 'c', 'g', 'c', 'c', 'g', 'c', 'g', 'c', 'g', 'c', 'g', 'c', 'c', 'g', 'c', 'g', 'c', 'c', 'c',\n",
    "'t', 't', 't', 't', 't', 't', 'a', 't', 'a', 'a', 'a', 'a', 't', 't', 't', 'a', 't', 'a', 't', 'a', 'a', 'a', 't', 'a', 't', 't', 't', 't',\n",
    "'g', 'c', 'c', 'g', 'g', 'c', 'g', 'c', 'g', 'c', 'g', 'c', 'c', 'g', 'c', 'g', 'c', 'g', 'c', 'g', 'c', 'c', 'g', 'c', 'g', 'c', 'c', 'c',\n",
    "'t', 't', 't', 't', 't', 't', 'a', 't', 'a', 'a', 'a', 'a', 't', 't', 't', 'a', 't', 'a', 't', 'a', 'a', 'a', 't', 'a', 't', 't', 't', 't'\n",
    "])"
   ]
  },
  {
   "cell_type": "code",
   "execution_count": 13,
   "metadata": {
    "collapsed": true
   },
   "outputs": [],
   "source": [
    "m.baumWelch(train_seq)"
   ]
  },
  {
   "cell_type": "code",
   "execution_count": 14,
   "metadata": {
    "collapsed": false
   },
   "outputs": [
    {
     "name": "stdout",
     "output_type": "stream",
     "text": [
      "DiscreteEmissionHMM(N=2, M=4)\n",
      "  state 0 (initial=0.00)\n",
      "    Emissions: 0.39, 0.00, 0.61, 0.00\n",
      "    Transitions: ->0 (0.98), ->1 (0.02)\n",
      "  state 1 (initial=1.00)\n",
      "    Emissions: 0.00, 0.57, 0.00, 0.43\n",
      "    Transitions: ->0 (0.04), ->1 (0.96)\n",
      "\n"
     ]
    }
   ],
   "source": [
    "print m"
   ]
  },
  {
   "cell_type": "code",
   "execution_count": 12,
   "metadata": {
    "collapsed": false
   },
   "outputs": [
    {
     "name": "stdout",
     "output_type": "stream",
     "text": [
      "([1, 1, 1, 1, 1, 1, 1, 1, 1, 1, 1, 1, 1, 1, 1, 1, 1, 1, 1, 1, 1, 1, 1, 1, 1, 1, 1, 1, 0, 0, 0, 0, 0, 0, 0, 0, 0, 0, 0, 0, 0, 0, 0, 0, 0, 0, 0, 0, 0, 0, 0, 0, 0, 0, 0, 0, 1, 1, 1, 1, 1, 1, 1, 1, 1, 1, 1, 1, 1, 1, 1, 1, 1, 1, 1, 1, 1, 1, 1, 1, 1, 1, 1, 1, 0, 0, 0, 0, 0, 0, 0, 0, 0, 0, 0, 0, 0, 0, 0, 0, 0, 0, 0, 0, 0, 0, 0, 0, 0, 0, 0, 0], -89.38982033967802)\n"
     ]
    }
   ],
   "source": [
    "print m.viterbi(train_seq)"
   ]
  },
  {
   "cell_type": "code",
   "execution_count": null,
   "metadata": {
    "collapsed": true
   },
   "outputs": [],
   "source": []
  }
 ],
 "metadata": {
  "kernelspec": {
   "display_name": "Python 2",
   "language": "python",
   "name": "python2"
  },
  "language_info": {
   "codemirror_mode": {
    "name": "ipython",
    "version": 2
   },
   "file_extension": ".py",
   "mimetype": "text/x-python",
   "name": "python",
   "nbconvert_exporter": "python",
   "pygments_lexer": "ipython2",
   "version": "2.7.11+"
  }
 },
 "nbformat": 4,
 "nbformat_minor": 0
}
