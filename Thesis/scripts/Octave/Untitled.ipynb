{
 "cells": [
  {
   "cell_type": "code",
   "execution_count": 8,
   "metadata": {
    "collapsed": false
   },
   "outputs": [
    {
     "name": "stdout",
     "output_type": "stream",
     "text": [
      "mu =\n",
      "\n",
      "   0.10000   0.55000   0.35000\n",
      "\n"
     ]
    }
   ],
   "source": [
    "mu = [0.1 0.55 0.35]"
   ]
  },
  {
   "cell_type": "code",
   "execution_count": 4,
   "metadata": {
    "collapsed": false
   },
   "outputs": [
    {
     "name": "stdout",
     "output_type": "stream",
     "text": [
      "A =\n",
      "\n",
      "   0.97100   0.02900   0.00000\n",
      "   0.14500   0.77800   0.07700\n",
      "   0.00000   0.50800   0.49200\n",
      "\n"
     ]
    }
   ],
   "source": [
    "A =  [0.971 0.029 0;\n",
    " 0.145 0.778 0.077;\n",
    " 0 0.508 0.492]\n"
   ]
  },
  {
   "cell_type": "code",
   "execution_count": 7,
   "metadata": {
    "collapsed": false
   },
   "outputs": [
    {
     "name": "stdout",
     "output_type": "stream",
     "text": [
      "evect =\n",
      "\n",
      "   0.5773503  -0.1389312   0.0098689\n",
      "   0.5773503   0.5721371  -0.1979135\n",
      "   0.5773503   0.8083052   0.9801698\n",
      "\n",
      "evals =\n",
      "\n",
      "Diagonal Matrix\n",
      "\n",
      "   1.00000         0         0\n",
      "         0   0.85157         0\n",
      "         0         0   0.38943\n",
      "\n"
     ]
    }
   ],
   "source": [
    "[evect, evals]=eig(A)"
   ]
  },
  {
   "cell_type": "code",
   "execution_count": 1,
   "metadata": {
    "collapsed": false
   },
   "outputs": [
    {
     "name": "stdout",
     "output_type": "stream",
     "text": [
      "E =\n",
      "\n",
      "   0.215000   0.015000  -0.180000\n",
      "\n"
     ]
    }
   ],
   "source": [
    "E = [0.215, 0.015, -0.18]"
   ]
  },
  {
   "cell_type": "code",
   "execution_count": 6,
   "metadata": {
    "collapsed": false
   },
   "outputs": [
    {
     "name": "stdout",
     "output_type": "stream",
     "text": [
      "ans =\n",
      "\n",
      "   0.816125   0.159822   0.024054\n",
      "   0.799109   0.173836   0.027055\n",
      "   0.793458   0.178491   0.028051\n",
      "\n"
     ]
    }
   ],
   "source": [
    "A^25"
   ]
  },
  {
   "cell_type": "code",
   "execution_count": null,
   "metadata": {
    "collapsed": true
   },
   "outputs": [],
   "source": []
  }
 ],
 "metadata": {
  "kernelspec": {
   "display_name": "Octave",
   "language": "octave",
   "name": "octave"
  },
  "language_info": {
   "file_extension": ".m",
   "help_links": [
    {
     "text": "MetaKernel Magics",
     "url": "https://github.com/calysto/metakernel/blob/master/metakernel/magics/README.md"
    }
   ],
   "mimetype": "text/x-octave",
   "name": "octave",
   "version": "0.16.0"
  }
 },
 "nbformat": 4,
 "nbformat_minor": 0
}
