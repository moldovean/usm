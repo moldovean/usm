{
 "cells": [
  {
   "cell_type": "markdown",
   "metadata": {},
   "source": [
    "#### Adrian Vrabie\n",
    "\n",
    "\n",
    "# Markov Chains in Economics\n",
    "\n",
    "## Introduction to the application of Markov Chains in Economics and Literature Review\n",
    "\n",
    "In a nutshell, a Markov switching model assumes that a variable of interest $\\mathbf{y_t}$ (ex: GNP) can be modeled by a vector of parameters $\\mathbf{\\theta} = \\{\\theta_1, \\theta_2, ... \\}$ (ex: an AR(1)) that can change values depending on the state of the system (ex: state of the economy) denoted by variable $s_t$. The state variable $s_t$ is not directly observed but it is assumed to switch according to a probability matrix $\\mathbf{M}$. Each element $m_{ij}$ of $\\mathbf{M}$ is the probability that $Pr[s_t=j | s_{t-1} =i] $. Since the state variable $s_t$ is latent (not directly obserbed), such models are usually referred in the literature as \"hidden Markov models\" or \"Markov switching models\" or \"regime switching models\" and some apply embelishments and call it \"Markov switching multifractals\".\n",
    "\n",
    "Embedding the switching Markov chains in macroeconomic modelling and finance is a relative recent phenomena and attracted gravity with the seminal paper of [Hamilton 1989][Hamilton89]. Serendipitously, the economics literature started to abund with reasons in favor of such regime switching models in the 90's. For example, [Hamilton 2002][Hamilton02] provides a survey of literature of such models and mentions notorious names: Cooper and John (1988), Diamond and Fudenberg (1989), Howitt and McAfee (1992), Cooper (1994), Acemoglu and Scott (1997), Startz (1998).\n",
    "\n",
    "Although the very idea that an economic variable of interest can be modeled by different parameters during different time is neither new nor revolutionary and has been examined by Lindgren (1978), Baum et al (1980), Neftci (1982) and Sclove (1983), although Hamilton was the first to propose an algorithm that estimated $\\mathbf{M}$.\n",
    "\n",
    "The advantages and shortfalls of using a Markov switching model have been pointed by Chung Ming Kuan from which we can conclude that Markov switching models represent a particularly attractive instrument for modelling nonlinear dynamic patterns such as asymmetry, amplitude dependence and volatility clustering which would require cumbersome non-linear models otherwise.\n",
    "\n",
    "\n",
    "\n",
    "\n",
    "\n",
    "\n",
    "[Hamilton89]: http://www.ssc.wisc.edu/~bhansen/718/Hamilton1989.pdf \"Hamilton JD (1989) A new approach to the economic analysis of non stationary time series and the business cycle. Econometrica 57:357-384\"\n",
    "\n",
    "[Hamilton02]: http://link.springer.com/article/10.1007/s001810100115 \"Hamilton, James D., and Baldev Raj. \\\"New directions in business cycle research and financial analysis.\\\" Empirical Economics 27.2 (2002): 149-162.\"\n"
   ]
  },
  {
   "cell_type": "markdown",
   "metadata": {},
   "source": [
    "## RBC Intro: Before Eichenbaum gets rid of the Euler's Equation\n",
    "\n",
    "Unlike the traditional approach in most Macroeconomics textbooks, I choose to takle the RBC (Real Business Cycles) models from the individual utility maximization. In modern Macroeconomics the representative household is assumed to be rational (e.i. transitive and complete) and markets competitive: this ensures a pareto optimal allocation of resources. The representative household maximizes the intertemporal utility function of the form:\n",
    "\n",
    "$$U = u(c_t(\\theta)) + \\sum_{i=1}^{\\infty} \\beta^{t+i} u(c_{t+i}(\\theta)) $$ \n",
    "\n",
    "where $\\beta$ is a discount factor, $\\theta$ is a vector of parameters that define the $c(\\theta)$ consumption function and $u$ is the utility function (for non-economists, think of utility as hapiness the individual gets from consuming goods and services).  For the choice of $u$ we will reference the classical [Advanced Macroeconomics][Romer96](p.189) textbook of David Romer which assumes a parsimonious function taking as parameters the level of consumption and leisure time (which is scaled to 1 for simplicity):\n",
    "\n",
    "$$u_t = \\log(c_t) + b\\log(1-l_t) $$\n",
    "here $b>0$ quantifies the pleasure of leisure. \n",
    "We also take into considerations the accumulated Assets (Wealth) which bears interest. We'll use the notation of [Ljungqvis][Ljungqvis00]\n",
    "$$A_{t+1} = (1+r_{t+1})(A_t + y_t − c_t)$$, the $t+1$ index for the interest rate $r$ implies the interest rate changes during a year are not known to the individual maximizing utility, $y_t$ is a random endowment sequence.\n",
    "\n",
    "One can 'easily' derive the Euler's equation by observig that between any two points in time, the utility maximization function $U$ ensures the following equality:\n",
    "\n",
    "$$u(-\\Delta c_t) + \\beta u(+\\Delta c_{t+1}(1+r_{t+1}))=0 $$\n",
    "e.i. the marginal utility that one gets by saving today $\\Delta c_t$, investing it at the rate of $1+r$ and consuming $\\Delta c_t(1+r)$ at time $t+1$ must equal the forgone utility of consuming $\\Delta c_t$ now. Taking the derivative with respect to $c_t$, we get the Euler's equation:\n",
    "$$u'_{c_t} = \\beta u'_{(c_{t+1})} \\mathrm{E}[(1+r_{t+1})] $$\n",
    "where $\\mathrm{E}$ is the Expectation, since the individual doesn't know the interest rate.\n",
    "\n",
    "Intuitively, one can see how Markov chains might be used to improve the Euler's identity through modelling different distributions of interest rate to improve goodness of fit. Not surprisingly, empirical evidence of the Euler's intertemporal identity has failed to impress, moreover some have noted the covariance between the interst rate and consumption has the opposite sign which led Martin Eichenbaum into questioning whether it would be better to *avoid using the Euler's identity in Macroeconomic modelling*. [here](http://noahpinionblog.blogspot.md/2014/01/the-equation-at-core-of-modern-macro.html) I posit on the other hand that the Euler's identity must be true because it's simply a mathematical derivation from the utility maximization assumption, therefore *there must be some fundamental changes which switch our models in different periods of time* which have a greater marginal effect on our consumption behaviour than the changes in the interest rate. \n",
    "\n",
    "\n",
    "In general, most of the RBC models result from slight modifications of the Euler's identiy (or inequality if one imposes the condition that $A_{t+1} \\ge A_t$. As [(Ljungqvist et al 2000)][Ljungqvis00] exposes: \n",
    "\n",
    "> One can restrict u, β , the return process $r_{t+1}$ , the lower bound on assets A, the income process $y_t$, and or the consumption process $c_t$ in various ways. By making alternative choices about restrictions to impose on subsets of these objects, macroeconomists have constructed theories about **consumption, asset prices, and the distribution of wealth.**\n",
    "\n",
    "\n",
    "\n",
    "\n",
    "[Romer96]: https://books.google.md/books?id=9dW7AAAAIAAJ&redir_esc=y \"Romer, David. (1996), Advanced macroeconomics , McGraw-Hill , New York, NY [u.a.]\"\n",
    "\n",
    "[Ljungqvis00]: https://books.google.md/books/about/Recursive_Macroeconomic_Theory.html?id=Xx-j-tYaPQUC&redir_esc=y \"Ljungqvist, Lars, and Thomas J. Sargent. '1.' Recursive Macroeconomic Theory. Cambridge, MA: MIT, 2000. N. pag. Print.\""
   ]
  },
  {
   "cell_type": "markdown",
   "metadata": {},
   "source": [
    "## Quasi Maximul Likelihood Estimation\n",
    "\n",
    "Use paper: \n",
    "\n",
    "\n",
    "Following the lecture of [Chung-Ming Kuan](http://homepage.ntu.edu.tw/~ckuan/pdf/Lec-Markov_note_spring%202010.pdf \"Lecture on the Markov Switching Model\")\n",
    "Given a time series:\n",
    "$$z_t = \\alpha_0+\\alpha_1 s_t + \\beta_1 z_{t-1} + ... + \\beta_k z_{t-k} + \\epsilon_t$$\n",
    "where $s_t$ is the state variable that follows a markovian process:\n",
    "\n",
    "$$s_t = \\{i\\}, i=\\{0,1\\}$$\n",
    "\n",
    "We need to find:\n",
    "$$\\theta = (\\alpha_0, \\alpha_1, \\beta_1 ... \\beta_k, \\sigma^2_\\epsilon, p_{00}, p_{11}) $$\n",
    "such that $\\theta$ produces the *best possible* results to our *prediction probabilities* of $s_t$, which we define as:\n",
    "\n",
    "$$\\Pr\\left(s_t=i | \\mathcal{Z}^{t-1};\\theta\\right) $$\n",
    "where $\\mathcal{Z}^t = \\{z_t, z_{t-1}, z_{t-2} ... z_{1}\\}$ is the data vector.\n",
    "\n",
    "Given the functional form of $z_t$ from above, and assuming $\\epsilon_t$ is normally distributed, the conditional distribution of $z_t$ on $\\mathcal{Z}^{t-1}$ and $s_t$ is:\n",
    "$$f\\left(z_t | s_t=i, \\mathcal{Z}^{t-1}; \\theta\\right) = \n",
    "\\frac{1}{\\sqrt{2\\pi\\sigma_\\epsilon^2}}exp{\\frac{-(z_t-\\alpha_0-\\alpha_1 i -\\beta_1 z_{t-1}-...-\\beta_k z_{t-k})^2}{2\\sigma_\\epsilon^2}}$$\n",
    "\n",
    "from this we can write the conditional probabilitity of $z_t$ on $\\mathcal{Z}^{t-1}$ alone:\n",
    "$${f\\left(z_t | \\mathcal{Z}^{t-1}; \\theta\\right)} = \n",
    "f\\left(z_t | s_t=0 \\mathcal{Z}^{t-1}; \\theta\\right) \\Pr\\left(s_t=0|\\mathcal{Z}^{t-1}; \\theta\\right) \\\\+ f\\left(z_t | s_t=1 \\mathcal{Z}^{t-1}; \\theta\\right) \\Pr{\\left(s_t=1|\\mathcal{Z}^{t-1}; \\theta\\right)} $$\n",
    "\n",
    "\n",
    "The filtering probabilities of $s_t$ follow a recursive Bayesian distribution:\n",
    "$$\\Pr\\left(s_t=i|\\mathcal{Z}^{t};\\theta\\right) = \\frac{\\Pr\\left(s_t=i|\\mathcal{Z}^{t-1};\\theta\\right)f\\left(z_t | s_t=i, \\mathcal{Z}^{t-1}; \\theta\\right)}{f\\left(z_t | \\mathcal{Z}^{t-1}; \\theta\\right)}$$\n",
    "\n",
    "Now we can assess:\n",
    "$$\\Pr\\left(s_{t+1}=i|\\mathcal{Z}^{t};\\theta\\right)= p_{0i}\\Pr\\left(s_t=0|\\mathcal{Z}^{t};\\theta\\right)\\\\\n",
    "+p_{1i}\\Pr\\left(s_t=1|\\mathcal{Z}^{t};\\theta\\right)$$\n",
    "\n",
    "This completes our recursive system.  The quasi-log-likelihood function is of the form:\n",
    "$$\\mathcal{L}_{T}(\\mathbf{\\theta}) = \\sum_{t=1}^T \\ln{f(z_t|\\mathcal{Z}^{t-1};\\theta)}$$\n",
    "One of the methods to solve for $\\theta$ for this non-linear complex function is to use numerical methods. As suggested by Chung-Ming Kuan"
   ]
  },
  {
   "cell_type": "markdown",
   "metadata": {},
   "source": [
    "## Implementation\n",
    "I will use the Julia programming language to implement the algorithm described by Chung-Ming Kuan and proposed by Hamilton. "
   ]
  },
  {
   "cell_type": "code",
   "execution_count": 3,
   "metadata": {
    "collapsed": false
   },
   "outputs": [],
   "source": [
    "\n",
    "using Distributions #Normal MvNormal\n",
    "using Optim\n",
    "\n"
   ]
  },
  {
   "cell_type": "code",
   "execution_count": 4,
   "metadata": {
    "collapsed": false
   },
   "outputs": [
    {
     "data": {
      "text/plain": [
       "4-element Array{Float64,1}:\n",
       " 0.00193391\n",
       " 0.00195431\n",
       " 0.00190428\n",
       " 0.00180879"
      ]
     },
     "execution_count": 4,
     "metadata": {},
     "output_type": "execute_result"
    }
   ],
   "source": [
    "K = 3\n",
    "N = 500;\n",
    "\n",
    "X = rand(MvNormal(eye(K)), N)\n",
    "X = [ones(N) X'];\n",
    "\n",
    "trueParams = [0.1, 0.5, -0.3, 0.0]\n",
    "\n",
    "Y = X*trueParams + rand(Normal(0,1), N)\n",
    "C = (X'*X)^(-1)\n",
    "B = C*X'*Y\n",
    "σ =sqrt((Y'*Y - B'X'Y)/(N-K-1))  # the same as: σ = sqrt((Y-X*B)'*(Y-X*B)/(N-K-1))\n",
    "σ =reshape(σ)[1]\n",
    "\n",
    "Var_coeff = diag(C)*σ^2\n",
    "Var_coeffVar_coeff = diag(C)*σ^2\n"
   ]
  },
  {
   "cell_type": "code",
   "execution_count": 5,
   "metadata": {
    "collapsed": false
   },
   "outputs": [
    {
     "data": {
      "text/plain": [
       "loglike (generic function with 1 method)"
      ]
     },
     "execution_count": 5,
     "metadata": {},
     "output_type": "execute_result"
    }
   ],
   "source": [
    "function loglike(Θ)\n",
    "  Β = Θ[1:K+1]\n",
    "  σ2 = exp(Θ[K+2])\n",
    "  ϵ = Y-X*Β\n",
    "  dist = Normal(0,σ2)\n",
    "  contributions = logpdf(dist,ϵ)\n",
    "  loglikelihood = sum(contributions)\n",
    "  return -loglikelihood\n",
    "end\n"
   ]
  },
  {
   "cell_type": "code",
   "execution_count": 7,
   "metadata": {
    "collapsed": false
   },
   "outputs": [
    {
     "name": "stdout",
     "output_type": "stream",
     "text": [
      "[0.1454011296471564,0.4970209895796025,-0.31072712668410973,-0.024040438705289817,0.9772690292011355]\n"
     ]
    }
   ],
   "source": [
    "\n",
    "init = [0.2, 0.1, 0.25, 0.2, 0.1]\n",
    "optimum = optimize(loglike, init, method=:cg) #conjugate gradient\n",
    "MLE = optimum.minimum\n",
    "MLE[5] =exp(MLE[5])\n",
    "println(MLE)\n"
   ]
  },
  {
   "cell_type": "markdown",
   "metadata": {},
   "source": [
    "## References:\n",
    "\n",
    "(Hamilton 1989): http://www.ssc.wisc.edu/~bhansen/718/Hamilton1989.pdf \"Hamilton JD (1989) A new approach to the economic analysis of non stationary time series and the business cycle. Econometrica 57:357-384\"\n",
    "\n",
    "(Hamilton 2002): http://link.springer.com/article/10.1007/s001810100115 \"Hamilton, James D., and Baldev Raj. \"New directions in business cycle research and financial analysis.\" Empirical Economics 27.2 (2002): 149-162.\"\n",
    "\n",
    "(Romer 1996): https://books.google.md/books?id=9dW7AAAAIAAJ&redir_esc=y \"Romer, David. (1996), Advanced macroeconomics , McGraw-Hill , New York, NY [3rd Edition]\"\n",
    "\n",
    "(Ljungqvis 2000 et al): https://books.google.md/books/about/Recursive_Macroeconomic_Theory.html?id=Xx-j-tYaPQUC&redir_esc=y \"Ljungqvist, Lars, and Thomas J. Sargent. '1.' Recursive Macroeconomic Theory. Cambridge, MA: MIT, 2000. N. pag. Print.\"\n",
    "\n",
    "### Unofficial references:\n",
    "\n",
    "1. http://noahpinionblog.blogspot.md/2014/01/the-equation-at-core-of-modern-macro.html\n",
    "2. Chung-Ming Kuan(http://homepage.ntu.edu.tw/~ckuan/pdf/Lec-Markov_note_spring%202010.pdf \"Lecture on the Markov Switching Model\")"
   ]
  },
  {
   "cell_type": "markdown",
   "metadata": {
    "collapsed": true
   },
   "source": [
    "Other names, such as \"Markov switching multifractal\" are just embelishments of the basic model which don't bring anything fundamentally new. \n"
   ]
  },
  {
   "cell_type": "code",
   "execution_count": null,
   "metadata": {
    "collapsed": true
   },
   "outputs": [],
   "source": []
  }
 ],
 "metadata": {
  "kernelspec": {
   "display_name": "Julia 0.4.1",
   "language": "julia",
   "name": "julia-0.4"
  },
  "language_info": {
   "file_extension": ".jl",
   "mimetype": "application/julia",
   "name": "julia",
   "version": "0.4.2"
  }
 },
 "nbformat": 4,
 "nbformat_minor": 0
}
