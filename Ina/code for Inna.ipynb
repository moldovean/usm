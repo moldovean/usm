{
 "cells": [
  {
   "cell_type": "markdown",
   "metadata": {},
   "source": [
    "# Code for Inna :)\n",
    "my lovely ex!\n",
    "\n",
    "$$C_i = 1000 + 0.8R_i + u_i$$"
   ]
  },
  {
   "cell_type": "code",
   "execution_count": 7,
   "metadata": {
    "collapsed": true
   },
   "outputs": [],
   "source": [
    "R_i = np.array([4000, 5000, 5000, 5000, 6000, 7000, 12000, 20000, 25000, 30000])"
   ]
  },
  {
   "cell_type": "code",
   "execution_count": 46,
   "metadata": {
    "collapsed": false
   },
   "outputs": [
    {
     "data": {
      "text/plain": [
       "10"
      ]
     },
     "execution_count": 46,
     "metadata": {},
     "output_type": "execute_result"
    }
   ],
   "source": [
    "len(R_i) #verify there are indeed 10"
   ]
  },
  {
   "cell_type": "code",
   "execution_count": 9,
   "metadata": {
    "collapsed": true
   },
   "outputs": [],
   "source": [
    "u_i = np.array([2672, -1205, -1254, -1825, -2994, -47, 684, -4576, -898, -805])"
   ]
  },
  {
   "cell_type": "code",
   "execution_count": 10,
   "metadata": {
    "collapsed": false
   },
   "outputs": [
    {
     "data": {
      "text/plain": [
       "10"
      ]
     },
     "execution_count": 10,
     "metadata": {},
     "output_type": "execute_result"
    }
   ],
   "source": [
    "len(u_i)"
   ]
  },
  {
   "cell_type": "code",
   "execution_count": 31,
   "metadata": {
    "collapsed": true
   },
   "outputs": [],
   "source": [
    "# We import the array library\n",
    "import numpy as np"
   ]
  },
  {
   "cell_type": "code",
   "execution_count": 32,
   "metadata": {
    "collapsed": false
   },
   "outputs": [],
   "source": [
    "#We use the above formula to calculate each C_is, that are given by the True model.\n",
    "C_i = 1000+0.8*R_i+u_i"
   ]
  },
  {
   "cell_type": "code",
   "execution_count": 13,
   "metadata": {
    "collapsed": false
   },
   "outputs": [
    {
     "data": {
      "text/plain": [
       "array([  6872.,   3795.,   3746.,   3175.,   2806.,   6553.,  11284.,\n",
       "        12424.,  20102.,  24195.])"
      ]
     },
     "execution_count": 13,
     "metadata": {},
     "output_type": "execute_result"
    }
   ],
   "source": [
    "#Let's take a look at the results:\n",
    "C_i"
   ]
  },
  {
   "cell_type": "markdown",
   "metadata": {},
   "source": [
    "Now suppose, the only thing you observed was the C_is and R_is! \n",
    "You don't know the true model:\n",
    "$$C_i = 1000 + 0.8R_i + u_i$$\n",
    "\n",
    "you suppose it's:\n",
    "\n",
    "$$C_i = Constant + Beta_1*R_i + Error_i$$\n",
    "And You don't know the u_i either, but you **DO KNOW** that on average, *u_i* is 0 (zero). \n",
    "Let's estimate the model using least squares. "
   ]
  },
  {
   "cell_type": "code",
   "execution_count": 38,
   "metadata": {
    "collapsed": false
   },
   "outputs": [
    {
     "name": "stdout",
     "output_type": "stream",
     "text": [
      "Our slope is (Beta1)   0.75537965979\n",
      "Our estimated constant is  506.182048498\n"
     ]
    }
   ],
   "source": [
    "R_i_augmented = np.vstack([R_i, np.ones(len(R_i))]).T \n",
    "#np.ones adds a column of ones to our Matrix, vstack = vertical stack\n",
    "\n",
    "slope, constant = np.linalg.lstsq( R_i_augmented, C_i)[0]\n",
    "print(\"Our slope is (Beta1)  \", slope)\n",
    "print(\"Our estimated constant is \", constant)\n"
   ]
  },
  {
   "cell_type": "markdown",
   "metadata": {},
   "source": [
    "Great!, Now that we have estimated our Coefficients, let's see how good our model is in estimating the reality.\n"
   ]
  },
  {
   "cell_type": "code",
   "execution_count": 39,
   "metadata": {
    "collapsed": true
   },
   "outputs": [],
   "source": [
    "C_estimates = slope*R_i + constant"
   ]
  },
  {
   "cell_type": "markdown",
   "metadata": {},
   "source": [
    "Let's take a quick look at what we've got"
   ]
  },
  {
   "cell_type": "code",
   "execution_count": 40,
   "metadata": {
    "collapsed": false
   },
   "outputs": [
    {
     "data": {
      "text/plain": [
       "array([  3527.70068766,   4283.08034745,   4283.08034745,   4283.08034745,\n",
       "         5038.46000724,   5793.83966703,   9570.73796598,  15613.7752443 ,\n",
       "        19390.67354325,  23167.5718422 ])"
      ]
     },
     "execution_count": 40,
     "metadata": {},
     "output_type": "execute_result"
    }
   ],
   "source": [
    "C_estimates"
   ]
  },
  {
   "cell_type": "markdown",
   "metadata": {},
   "source": [
    "The Errors are just the difference between C_i (real) and C_estimates (what we estimated)"
   ]
  },
  {
   "cell_type": "code",
   "execution_count": 43,
   "metadata": {
    "collapsed": false
   },
   "outputs": [
    {
     "name": "stdout",
     "output_type": "stream",
     "text": [
      "[ 3344.29931234  -488.08034745  -537.08034745 -1108.08034745 -2232.46000724\n",
      "   759.16033297  1713.26203402 -3189.7752443    711.32645675  1027.4281578 ]\n"
     ]
    }
   ],
   "source": [
    "Errors = C_i - C_estimates\n",
    "print(Errors)"
   ]
  },
  {
   "cell_type": "markdown",
   "metadata": {},
   "source": [
    "Let's verify that the sum of the Errors are indeed zero. (The model makes them equal to zero)"
   ]
  },
  {
   "cell_type": "code",
   "execution_count": 45,
   "metadata": {
    "collapsed": false
   },
   "outputs": [
    {
     "data": {
      "text/plain": [
       "-5.8662408264353871e-11"
      ]
     },
     "execution_count": 45,
     "metadata": {},
     "output_type": "execute_result"
    }
   ],
   "source": [
    "sum(Errors)"
   ]
  },
  {
   "cell_type": "markdown",
   "metadata": {},
   "source": [
    "Indeed! It's zero! :)"
   ]
  },
  {
   "cell_type": "code",
   "execution_count": null,
   "metadata": {
    "collapsed": true
   },
   "outputs": [],
   "source": []
  }
 ],
 "metadata": {
  "kernelspec": {
   "display_name": "Python 3",
   "language": "python",
   "name": "python3"
  },
  "language_info": {
   "codemirror_mode": {
    "name": "ipython",
    "version": 3
   },
   "file_extension": ".py",
   "mimetype": "text/x-python",
   "name": "python",
   "nbconvert_exporter": "python",
   "pygments_lexer": "ipython3",
   "version": "3.4.3"
  }
 },
 "nbformat": 4,
 "nbformat_minor": 0
}
