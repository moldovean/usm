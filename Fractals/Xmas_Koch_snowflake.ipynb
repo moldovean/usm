{
 "cells": [
  {
   "cell_type": "code",
   "execution_count": 1,
   "metadata": {
    "collapsed": false
   },
   "outputs": [],
   "source": [
    "# have a very happy Fractal Christmas \n",
    "using PyPlot\n",
    "using StatsBase"
   ]
  },
  {
   "cell_type": "code",
   "execution_count": 2,
   "metadata": {
    "collapsed": false
   },
   "outputs": [
    {
     "data": {
      "text/plain": [
       "f1! (generic function with 1 method)"
      ]
     },
     "execution_count": 2,
     "metadata": {},
     "output_type": "execute_result"
    }
   ],
   "source": [
    "function f1!(A, b, x)\n",
    "    result = A*x+b\n",
    "    return result\n",
    "end\n",
    "    "
   ]
  },
  {
   "cell_type": "code",
   "execution_count": 3,
   "metadata": {
    "collapsed": false
   },
   "outputs": [],
   "source": [
    "A1 = [1/2 -(3^0.5)/6;\n",
    "      (3^0.5)/6 1/2]\n",
    "b1 = [0;0]\n",
    "\n",
    "A2 = [1/3 0.0;\n",
    "      0.0 1/3]\n",
    "b2= [1/3^0.5; 1/3]\n",
    "\n",
    "A3 = [1/3 0.0;\n",
    "      0.0 1/3]\n",
    "b3 = [0; 2/3]\n",
    "\n",
    "A4 = [1/3 0.0;\n",
    "      0.0 1/3]\n",
    "b4 = [-1/3^0.5; 1/3]\n",
    "\n",
    "A5 = [1/3 0.0;\n",
    "      0.0 1/3]\n",
    "b5 = [-1/3^0.5; -1/3]\n",
    "\n",
    "A6 = [1/3 0.0;\n",
    "      0.0 1/3]\n",
    "b6 = [0.0; -2/3]\n",
    "\n",
    "A7 = [1/3 0.0;\n",
    "      0.0 1/3]\n",
    "b7 = [1/3^0.5; -1/3];"
   ]
  },
  {
   "cell_type": "code",
   "execution_count": 4,
   "metadata": {
    "collapsed": false
   },
   "outputs": [],
   "source": [
    "A = (A1, A2, A3, A4, A5, A6, A7)\n",
    "b = (b1, b2, b3, b4, b5, b6, b7)\n",
    "x = [0,0]\n",
    "Points=[]\n",
    "push!(Points,x);"
   ]
  },
  {
   "cell_type": "code",
   "execution_count": 5,
   "metadata": {
    "collapsed": false
   },
   "outputs": [],
   "source": [
    "for j = 1:100000\n",
    "    i=sample(1:7) \n",
    "    push!(Points,f1!(A[i],b[i],Points[end]))\n",
    "end\n",
    "x = [Points[x][1] for x in 1:length(Points)]\n",
    "y = [Points[x][2] for x in 1:length(Points)];\n"
   ]
  },
  {
   "cell_type": "code",
   "execution_count": 6,
   "metadata": {
    "collapsed": false
   },
   "outputs": [
    {
     "data": {
      "text/plain": [
       "PyObject <matplotlib.collections.PathCollection object at 0x7f578dbfae90>"
      ]
     },
     "execution_count": 6,
     "metadata": {},
     "output_type": "execute_result"
    }
   ],
   "source": [
    "pygui(true)\n",
    "plt[:scatter](x,y, s=0.35, alpha =0.5, c=y.*x, edgecolor=\"face\")"
   ]
  },
  {
   "cell_type": "code",
   "execution_count": 7,
   "metadata": {
    "collapsed": false
   },
   "outputs": [
    {
     "name": "stdout",
     "output_type": "stream",
     "text": [
      "Vă doresc o iarnă fractală! ;) With love, from Moldova. \n"
     ]
    }
   ],
   "source": [
    "println(\"Vă doresc o iarnă fractală! ;) With love, from Moldova. \") "
   ]
  },
  {
   "cell_type": "code",
   "execution_count": 85,
   "metadata": {
    "collapsed": false
   },
   "outputs": [
    {
     "data": {
      "text/plain": [
       "Rot (generic function with 2 methods)"
      ]
     },
     "execution_count": 85,
     "metadata": {},
     "output_type": "execute_result"
    }
   ],
   "source": [
    "function Rot(theta=180)\n",
    "    R = [cos(theta*pi/180) sin(theta*pi/180); \n",
    "         -sin(theta*pi/180) cos(theta*pi/180)]\n",
    "    return R\n",
    "end"
   ]
  },
  {
   "cell_type": "code",
   "execution_count": 86,
   "metadata": {
    "collapsed": true
   },
   "outputs": [],
   "source": [
    "#supposed to be a pine-tree\n",
    "A1 = [0 -0.5; 0.5 0]\n",
    "b1 = [0.5, 0]\n",
    "\n",
    "A2 = [0 0.5; -0.5 0]\n",
    "b2 = [0.5, 0.5]\n",
    "\n",
    "A3 = [1/2 0 ; 0 1/2]\n",
    "b3 = [0.25, 0.5]\n",
    "\n",
    "A4 = Rot()\n",
    "b3 = [0, 0]\n",
    "\n",
    "\n",
    "A = (A1, A2, A3, A4 )\n",
    "b = (b1, b2, b3, b4)\n",
    "x = [0,0]\n",
    "Points=[]\n",
    "push!(Points,x);\n"
   ]
  },
  {
   "cell_type": "code",
   "execution_count": 87,
   "metadata": {
    "collapsed": false
   },
   "outputs": [],
   "source": [
    "for j = 1:100000\n",
    "    i=sample(1:3) \n",
    "    push!(Points,f1!(A[i],b[i],Points[end]))\n",
    "end\n",
    "x = [Points[x][1] for x in 1:length(Points)]\n",
    "y = [Points[x][2] for x in 1:length(Points)];"
   ]
  },
  {
   "cell_type": "code",
   "execution_count": 90,
   "metadata": {
    "collapsed": false
   },
   "outputs": [
    {
     "data": {
      "text/plain": [
       "PyObject <matplotlib.collections.PathCollection object at 0x7f5774e1e250>"
      ]
     },
     "execution_count": 90,
     "metadata": {},
     "output_type": "execute_result"
    }
   ],
   "source": [
    "plt[:scatter](x,y, s=0.35, alpha =0.5, c=x, edgecolor=\"face\")"
   ]
  },
  {
   "cell_type": "code",
   "execution_count": 76,
   "metadata": {
    "collapsed": false
   },
   "outputs": [
    {
     "data": {
      "text/plain": [
       "Rot (generic function with 2 methods)"
      ]
     },
     "execution_count": 76,
     "metadata": {},
     "output_type": "execute_result"
    }
   ],
   "source": []
  },
  {
   "cell_type": "code",
   "execution_count": 77,
   "metadata": {
    "collapsed": false
   },
   "outputs": [],
   "source": [
    "for i in 1:12\n",
    "Points = map(x->Rot(30)*x, Points)\n",
    "x = [Points[x][1] for x in 1:length(Points)]\n",
    "y = [Points[x][2] for x in 1:length(Points)]\n",
    "    plt[:scatter](x,y, s=0.35, alpha =0.5, c=x, edgecolor=\"face\")\n",
    "end"
   ]
  },
  {
   "cell_type": "code",
   "execution_count": null,
   "metadata": {
    "collapsed": false
   },
   "outputs": [],
   "source": []
  },
  {
   "cell_type": "code",
   "execution_count": 13,
   "metadata": {
    "collapsed": false
   },
   "outputs": [
    {
     "data": {
      "text/plain": [
       "6"
      ]
     },
     "execution_count": 13,
     "metadata": {},
     "output_type": "execute_result"
    },
    {
     "name": "stdout",
     "output_type": "stream",
     "text": [
      ",0][0.5,0.0][0.5,0.25][0.5,0.625][0.1875,0.25][0.625,0.40625][0.703125,0.1875][0.59375,0.1484375][0.546875,0.57421875][0.787109375,0.2265625]"
     ]
    }
   ],
   "source": [
    "7-1"
   ]
  },
  {
   "cell_type": "code",
   "execution_count": null,
   "metadata": {
    "collapsed": true
   },
   "outputs": [],
   "source": []
  }
 ],
 "metadata": {
  "kernelspec": {
   "display_name": "Julia 0.4.1",
   "language": "julia",
   "name": "julia-0.4"
  },
  "language_info": {
   "file_extension": ".jl",
   "mimetype": "application/julia",
   "name": "julia",
   "version": "0.4.1"
  }
 },
 "nbformat": 4,
 "nbformat_minor": 0
}
