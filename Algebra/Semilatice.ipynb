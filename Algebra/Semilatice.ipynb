{
 "metadata": {
  "name": ""
 },
 "nbformat": 3,
 "nbformat_minor": 0,
 "worksheets": [
  {
   "cells": [
    {
     "cell_type": "markdown",
     "metadata": {},
     "source": [
      "# Generalizarea No\u021biunii de Latice: Semilatice\n",
      "student: Adrian Vrabie"
     ]
    },
    {
     "cell_type": "code",
     "collapsed": false,
     "input": [
      "from IPython.display import YouTubeVideo\n",
      "from IPython import display\n",
      "from IPython.display import FileLink, FileLinks # allows "
     ],
     "language": "python",
     "metadata": {},
     "outputs": [],
     "prompt_number": 1
    },
    {
     "cell_type": "markdown",
     "metadata": {},
     "source": [
      "## Introducere\n",
      "Pentru a \u00een\u021belege laticele, avem nevoie de no\u021biunea unui set.\n",
      " $A = \\{\"Bananna\", \"Apple\", \"Melon\", \"Kiwi\", \"Mango\" \\}$ este un set arbitrar format din 5 elemente, \u00eens\u0103 nimic nu putem spune dac\u0103 acest\u0103 mul\u021bime este par\u021bial ordonat\u0103."
     ]
    },
    {
     "cell_type": "markdown",
     "metadata": {},
     "source": [
      "## Rela\u021bie Binar\u0103\n",
      "Ce este o rela\u021bie binar\u0103 \"$\\preceq$\" sau se mai noteaz\u0103 cu \"$ * $\" ?\n",
      "\n",
      "> O rela\u021bie binar\u0103 $(*)$ \u00een mul\u021bimea $S$ este o fun\u021bie (mapping) din $S\\times S \\mapsto S$\n",
      "\n",
      "Sursa: [Youtube Video](https://www.youtube.com/watch?v=gXxugQrrEgU)"
     ]
    },
    {
     "cell_type": "code",
     "collapsed": false,
     "input": [
      "YouTubeVideo('gXxugQrrEgU?t=1m49s')"
     ],
     "language": "python",
     "metadata": {},
     "outputs": [
      {
       "html": [
        "\n",
        "        <iframe\n",
        "            width=\"400\"\n",
        "            height=300\"\n",
        "            src=\"http://www.youtube.com/embed/gXxugQrrEgU?t=1m49s\"\n",
        "            frameborder=\"0\"\n",
        "            allowfullscreen\n",
        "        ></iframe>\n",
        "        "
       ],
       "metadata": {},
       "output_type": "pyout",
       "prompt_number": 2,
       "text": [
        "<IPython.lib.display.YouTubeVideo at 0x7febbce14710>"
       ]
      }
     ],
     "prompt_number": 2
    },
    {
     "cell_type": "markdown",
     "metadata": {},
     "source": [
      "### Ce este o mul\u021bime Par\u021bial Ordonat\u0103?"
     ]
    },
    {
     "cell_type": "markdown",
     "metadata": {},
     "source": [
      "Source: [Wikipedia](http://en.wikipedia.org/wiki/Partially_ordered_set)\n",
      ">In mathematics, especially order theory, a partially ordered set (or poset) formalizes and generalizes the intuitive concept of an ordering, sequencing, or arrangement of the elements of a set. A poset consists of a set together with a binary relation that indicates that, for certain pairs of elements in the set, one of the elements precedes the other. Such a relation is called a partial order to reflect the fact that not every pair of elements need be related: for some pairs, it may be that neither element precedes the other in the poset. Thus, partial orders generalize the more familiar total orders, in which every pair is related. "
     ]
    },
    {
     "cell_type": "markdown",
     "metadata": {},
     "source": [
      "<img src='http://upload.wikimedia.org/wikipedia/commons/e/ea/Hasse_diagram_of_powerset_of_3.svg', align=\"right\", width='30%'>\n",
      "\n",
      "Traducere:\n",
      ">O mul\u021bime par\u021bial ordonat\u0103 (sau se mai nume\u0219te \u0219i **un set par\u021bial ordonat** (sau **poset**)) formalizeaz\u0103 \u0219i generalizeaz\u0103 conceptul intuitiv de secven\u021bierea, sau ordonarea elementelor \u00eentr-o mul\u021bime. Un poset const\u0103 dintr-o mul\u021bime \u00eempreun\u0103 cu o rela\u021bie binar\u0103 care indic\u0103 faptul c\u0103, pentru anumite perechi de elemente din mul\u021bime, unul dintre elementele precede cel\u0103lalt (adica se afl\u0103 \u00eenaintea lui). O astfel de rela\u021bie se nume\u0219te **par\u021bial ordonat\u0103**! \n",
      "\n",
      "Observ\u0103m c\u0103 nu orice pereche de elemente numaidec\u00e2t trebuie s\u0103 aib\u0103 o leg\u0103tur\u0103. Pentru unele perechi e posibil ca nici unul din ele s\u0103 preced\u0103 pe cel\u0103lalt \u00een poset. Aceast fapt devine evident dac\u0103 examin\u0103m un poset prin diagrama (_Hasse_) prezentat\u0103 alaturat.\n",
      "\n",
      "\n",
      "Ex: Un poset finit care descrie rela\u021bia de ordine. \n",
      "\n",
      "** Aceast\u0103 defini\u021bie nu este chiar clar\u0103 ** , a\u0219a c\u0103 facem 2 pa\u0219i \u00eenapoi \u0219i \u00eencerc\u0103m s\u0103 definim rela\u021biile de ordine pe un anumit set (mul\u021bime).\n"
     ]
    },
    {
     "cell_type": "markdown",
     "metadata": {},
     "source": [
      "\n"
     ]
    },
    {
     "cell_type": "markdown",
     "metadata": {},
     "source": [
      "## Rela\u021biile de Ordine\n",
      "Acum c\u0103 am definit o rela\u021bie binar\u0103, putem defini \u0219i o Rela\u021bie de Ordine. \n",
      "\n",
      "Sursa [Wikipedia](http://ro.wikipedia.org/wiki/Rela%C8%9Bie_de_ordine):\n",
      ">O rela\u021bie binar\u0103 \"$\\preceq$\" sau \"$\\mathcal{R}$\" $\\subseteq A \\times A$ pe o mul\u021bime $A$ se nume\u0219te ''**rela\u021bie de ordine**'' dac\u0103 \u00eendepline\u0219te urm\u0103toarele propriet\u0103\u021bi:\n",
      "\n",
      "* **reflexivitate**: $\\forall x\\in A\\,,\\ x\\preceq x$\n",
      "* **antisimetrie**: $\\forall x,y\\in A$, dac\u0103 $x \\preceq y$ \u0219i $y\\preceq x$ atunci $x=y$\n",
      "* **tranzitivitate**: $\\forall x,y,z\\in A$, dac\u0103 $x\\preceq y$ \u0219i $y\\preceq z$ atunci $x\\preceq z$\n",
      "\n",
      "\u00cen limba englez\u0103,  [Schaum's Outline of Abstract Algebra by L. Jaisingh and F. Ayres ](http://www.amazon.com/Schaums-Outline-Abstract-Algebra-Outlines/dp/0071403272) :\n",
      "\n",
      "> * A relation $\\mathcal{R}$ on a set $S$ is called **reflexive** if $ a  \\mathcal{R}  a$ for every $a \\in S$.\n",
      "* A relation $\\mathcal{R}$ on a set $S$ is called **symmetric** if whenever $a \\mathcal{R} b$ then $b \\mathcal{R} a$\n",
      "* A relation $\\mathcal{R}$ on a set $S$ is called **antisymmetric** if $a \\mathcal{R} b$ and $b \\mathcal{R} a$ $\\implies$ $a=b$\n",
      "* A relation $\\mathcal{R}$ on a set $S$ is called **transitive** if whenever $a \\mathcal{R} b$ and $b \\mathcal{R} c$ then $a \\mathcal{R} c$."
     ]
    },
    {
     "cell_type": "markdown",
     "metadata": {},
     "source": [
      "Observa\u021bie: O rela\u021bie de ordine nu este altceva dec\u00e2t o [pre-ordine](https://en.wikipedia.org/wiki/Preorder) cu proprietatea antisimetric\u0103.\n",
      "\n",
      "Mai mult ca at\u00e2t, dac\u0103 o rela\u021bie par\u021bial ordonat\u0103 are proprietatea c\u0103 orice dou\u0103 elemente sunt comparabile, atunci aceast\u0103 rela\u021bie se nume\u0219te **rela\u021bie de ordine totat\u0103 (sau rela\u021bie de ordine liniar\u0103)**."
     ]
    },
    {
     "cell_type": "markdown",
     "metadata": {},
     "source": [
      "## Exemplu Mul\u021bime Par\u021bial Ordonat\u0103\n",
      "O mul\u021bime Par\u021bial Ordonat\u0103 $\\mathcal{P.O.}(D)$ este mul\u021bimea  $D= \\{ a|b =0, a,b \\in \\mathbb{N} \\}$ unde \n",
      "$\\mathbb{N} = \\{1,2,3,4,...\\}$, iar $a|b$ este rela\u021bia de divizibilitate. \n",
      "\n",
      "**Demonstra\u021bia** \u00een video ata\u0219at."
     ]
    },
    {
     "cell_type": "code",
     "collapsed": false,
     "input": [
      "YouTubeVideo('SqPOlE57cX8')"
     ],
     "language": "python",
     "metadata": {},
     "outputs": [
      {
       "html": [
        "\n",
        "        <iframe\n",
        "            width=\"400\"\n",
        "            height=300\"\n",
        "            src=\"http://www.youtube.com/embed/SqPOlE57cX8\"\n",
        "            frameborder=\"0\"\n",
        "            allowfullscreen\n",
        "        ></iframe>\n",
        "        "
       ],
       "metadata": {},
       "output_type": "pyout",
       "prompt_number": 3,
       "text": [
        "<IPython.lib.display.YouTubeVideo at 0x7febbce14910>"
       ]
      }
     ],
     "prompt_number": 3
    },
    {
     "cell_type": "markdown",
     "metadata": {},
     "source": [
      "### No\u021biuni de Majorant/Maximum/Supremum\n",
      "Dac\u0103 $M$ este o submul\u021bime nevid\u0103 a lui $A$ ($M\\subseteq A$, $M\\neq\\emptyset$), un element $a\\in A$ se nume\u0219te:\n",
      "\n",
      "* **majorant** al lui ''$M$'' dac\u0103 $\\forall b\\in M\\,,\\ b\\preceq a$. O mul\u021bime care are un majorant se nume\u0219te '''majorat\u0103''' sau '''m\u0103rginit\u0103 superior'''.\n",
      "* **minorant** al lui ''$M$'' dac\u0103 $\\forall b\\in M\\,,\\ a\\preceq b$. O mul\u021bime care are un minorant se nume\u0219te '''minorat\u0103''' sau '''m\u0103rginit\u0103 inferior'''\n",
      "* **maximul** lui $M$ dac\u0103 este majorant al lui ''$M$'' \u0219i apar\u021bine lui ''$M$''. Dac\u0103 o mul\u021bime are un maxim, acesta este unic.\n",
      "* **minimul** lui ''$M$'' dac\u0103 este minorant al lui ''$M$'' \u0219i apar\u021bine lui ''$M$''. Dac\u0103 o mul\u021bime are un minim, acesta este unic.\n",
      "* **supremum-ul** sau '''marginea superioar\u0103''' a lui ''$M$''  dac\u0103 ''a'' este minimul mul\u021bimii majoran\u021bilor lui ''$M$''.\n",
      "* **infimum-ul** sau '''marginea inferioar\u0103''' a lui ''$M$''  dac\u0103 ''a'' este maximul mul\u021bimii minoran\u021bilor lui ''$M$''.  "
     ]
    },
    {
     "cell_type": "markdown",
     "metadata": {},
     "source": [
      "####Exemple de imfimum:\n",
      "\n",
      "$\\inf\\, \\{1, 2, 3\\} = 1.$\n",
      "\n",
      "$\\inf\\, \\{ x \\in \\mathbb{R} : 0 < x < 1 \\}  =  0.$\n",
      "\n",
      "$\\inf\\, \\{ x \\in \\mathbb{Q} : x^3 > 2 \\} = \\sqrt[3]{2}.$\n",
      "\n",
      "$\\inf\\, \\{ (-1)^n + 1/n : n = 1, 2, 3, \\dots \\} = -1.$\n"
     ]
    },
    {
     "cell_type": "markdown",
     "metadata": {},
     "source": [
      "Aceea\u0219i defini\u021bie \u00een limba englez\u0103:\n",
      "\n",
      "Definition of a __Partially Ordered Set__,  source [Schaum's Outline of Abstract Algebra by L. Jaisingh and F. Ayres ](http://www.amazon.com/Schaums-Outline-Abstract-Algebra-Outlines/dp/0071403272) \n",
      ">A set $S$ will be said to be **partially ordered**  (the possibility of a total ordering is not\n",
      "excluded) by a binary relation $\\mathcal{R}$ if for arbitrary $a, b, c \\in S$,\n",
      "\n",
      "1. $\\mathcal{R}$ is reflexive, i.e., $a \\mathcal{R} a$;\n",
      "2. $\\mathcal{R}$ is anti-symmetric, i.e., $a \\mathcal{R} b$ and $b \\mathcal{R} a$ if and only if $a = b$;\n",
      "3. $\\mathcal{R}$ is transitive, i.e., $a \\mathcal{R} b$ and $b \\mathcal{R} c$ implies $a \\mathcal{R} c$."
     ]
    },
    {
     "cell_type": "markdown",
     "metadata": {},
     "source": [
      " source [Schaum's Outline of Abstract Algebra by L. Jaisingh and F. Ayres ](http://www.amazon.com/Schaums-Outline-Abstract-Algebra-Outlines/dp/0071403272) \n",
      " \n",
      ">Let $S$ be a partially ordered set with respect to $\\mathcal{R}$. Then:\n",
      "\n",
      "1. every subset of $S$ is also partially ordered with respect to $\\mathcal{R}$ while some subsets may be **totally\n",
      "ordered**. \n",
      "\n",
      "2. the element $a \\in S$ is called a **first element** of $S$ if $a \\mathcal{R} x$ for every $x \\in S$.\n",
      "\n",
      "3. the element $g \\in S$ is called a **last element** of S if $x \\mathcal{R} g$ for every $x \\in S$. \n",
      "\n",
      "4. the element $a \\in S$ is called a **minimal element** of $S$ if $x \\mathcal{R} a$ implies $x = a$ for every $x \\in S$.\n",
      "\n",
      "5. the element $g \\in S$ is called a **maximal element** of $S$ if $g \\mathcal{R} x$ implies $g = x$ for every $x \\in S$.\n",
      "\n",
      "_**Observation**_: The first (last) element of an ordered set, assuming there is one, is unique.\n",
      "\n",
      "\n"
     ]
    },
    {
     "cell_type": "code",
     "collapsed": false,
     "input": [
      "#Figure 2(a,b)\n",
      "display.Image('Images/min_max.jpg')"
     ],
     "language": "python",
     "metadata": {},
     "outputs": [
      {
       "jpeg": "[encoded data removed]",
       "metadata": {},
       "output_type": "pyout",
       "prompt_number": 7,
       "text": [
        "<IPython.core.display.Image at 0x7febbd68b750>"
       ]
      }
     ],
     "prompt_number": 7
    },
    {
     "cell_type": "markdown",
     "metadata": {},
     "source": [
      "In imaginea de mai sus, Fig 2(a), $S=\\{a,b,c,d\\}$ , multimea $S$ are elementul minim, dar nu are maximum. In fig 2(b)  $S=\\{a,b,c,d, e\\}$ , $S$ are maximum dar nu are minimum.\n",
      "\n",
      "An ordered set $S$ having the property that each of its non-empty subsets has a first element, is said to be _**well ordered**_."
     ]
    },
    {
     "cell_type": "markdown",
     "metadata": {},
     "source": [
      "##Opera\u021bii Binare / Binary Operatioins\n",
      "\n",
      "Definitions:\n",
      "\n",
      "* A binary operation $\\circ$ on a set $S$ is called **commutative** whenever $x \\circ y = y \\circ x$ for all $x, y \\in S$\n",
      "* A binary operation $\\circ$ on a set $S$ is called **associative** whenever $(x \\circ y) \\circ z = x \\circ ( y \\circ z)$ for all $x, y, z \\in S$:\n"
     ]
    },
    {
     "cell_type": "markdown",
     "metadata": {},
     "source": [
      "## Quasi-order Relation\n",
      "Source: [Discrete Mathematics by S Lipschutz and M Lipson](http://alas.matf.bg.ac.rs/~mi10103/predavanja/_ds1/DS.pdf)\n",
      "\n",
      "Suppose \u227a is a relation on a set $S$ satisfying the following two properties:\n",
      "\n",
      "1. (Irreflexive) For any a \u2208 A, we have a /\u227a a.\n",
      "2. (Transitive) If a \u227a b, and b \u227a c, then a \u227a c.\n",
      "\n",
      "**Then \u227a is called a quasi-order on S.**\n",
      "\n",
      "\n",
      "There is a close relationship between partial orders and quasi-orders. Specifically, if $\\preceq$ is a partial order\n",
      "on a set $S$ and we define a \u227a b to mean $a \\preceq b$ but $a \\neq b$, then \u227a is a quasi-order on $S$. Conversely, if \u227a is a\n",
      "quasi-order on a set $S$ and we define $a \\preceq b$ to mean $a \\prec b$ or a = b, then $\\preceq$ is a partial order on $S$. \n"
     ]
    },
    {
     "cell_type": "markdown",
     "metadata": {},
     "source": [
      "# Lattices"
     ]
    },
    {
     "cell_type": "markdown",
     "metadata": {},
     "source": [
      "##Definition of $\\vee$\n",
      "\n",
      "Let $\\left({S, \\preceq}\\right)$ be an ordered set.\n",
      "\n",
      "Let $a, b \\in S$.\n",
      "\n",
      "Let their supremum $\\sup \\left\\{{a, b}\\right\\}$ exist in $S$.\n",
      "\n",
      "\n",
      "Then the '''join of $a$ and $b$''' is defined as:\n",
      "\n",
      "$a \\vee b = \\sup \\left\\{{a, b}\\right\\}$\n",
      "\n"
     ]
    },
    {
     "cell_type": "markdown",
     "metadata": {},
     "source": [
      "## Definition of Semilattice\n",
      "Let $\\left({S, \\circ}\\right)$ be a semigroup.\n",
      "\n",
      "Then $\\left({S, \\circ}\\right)$ is called a **semilattice** iff $\\circ$ is a commutative and idempotent operation\n",
      "\n",
      "\n",
      "Thus an algebraic structure is a semilattice iff it satisfies the following axioms:\n",
      "\n",
      "1. Closure for \u2218   \t  \u2200a,b\u2208S:\ta\u2218b\u2208S   \t\t\t\t          \n",
      "2. Commutativity of \u2218   \t  \u2200a,b\u2208S:\ta\u2218b=b\u2218a   \t\t\t\t         \n",
      "3. Associativity of \u2218   \t  \u2200a,b,c\u2208S:\t(a\u2218b)\u2218c=a\u2218(b\u2218c)   \t\t\t\t         \n",
      "4. Idempotency of \u2218   \t  \u2200a\u2208S:\ta\u2218a=a   \n",
      "\n",
      "\n"
     ]
    },
    {
     "cell_type": "markdown",
     "metadata": {},
     "source": [
      "## Definition 1 of Join Semilattice\n",
      "\n",
      "Let $\\left({S, \\preceq}\\right)$ be an ordered set.\n",
      "\n",
      "Suppose that for all $a, b \\in S$:\n",
      "\n",
      "$a \\vee b \\in S$\n",
      "\n",
      "where $a \\vee b$ is the join of $a$ and $b$ with respect to $\\preceq$.\n",
      "\n",
      "\n",
      "Then the ordered structure $\\left({S, \\vee, \\preceq}\\right)$ is called a **join semilattice**.\n",
      "\n",
      "\n",
      "\n",
      "## Definition 2 of Join Semilattice\n",
      "\n",
      "Let $\\left({S, \\vee}\\right)$ be a semilattice.\n",
      "\n",
      "Let $\\preceq$ be the ordering on $S$ defined by:\n",
      "\n",
      "$a \\preceq b \\iff \\left({a \\vee b}\\right) = b$"
     ]
    },
    {
     "cell_type": "markdown",
     "metadata": {},
     "source": [
      "##Definition of Lattice 1\n",
      "Let $\\left({S, \\preceq}\\right)$ be an ordered set.\n",
      "\n",
      "Suppose that $S$ admits all finite non-empty suprema and finite non-empty infima.\n",
      "\n",
      "Denote with $\\vee$ and $\\wedge$ the join and meet operations on $S$, respectively.\n",
      "\n",
      "\n",
      "Then the ordered structure $\\left({S, \\vee, \\wedge, \\preceq}\\right)$ is called a **lattice**."
     ]
    },
    {
     "cell_type": "code",
     "collapsed": false,
     "input": [],
     "language": "python",
     "metadata": {},
     "outputs": []
    },
    {
     "cell_type": "code",
     "collapsed": false,
     "input": [],
     "language": "python",
     "metadata": {},
     "outputs": []
    }
   ],
   "metadata": {}
  }
 ]
}