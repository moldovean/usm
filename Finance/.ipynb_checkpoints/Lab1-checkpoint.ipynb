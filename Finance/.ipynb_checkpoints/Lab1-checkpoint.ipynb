{
 "metadata": {
  "name": ""
 },
 "nbformat": 3,
 "nbformat_minor": 0,
 "worksheets": [
  {
   "cells": [
    {
     "cell_type": "markdown",
     "metadata": {},
     "source": [
      "#Coursework 1 Interest Rates\n",
      "student: Adrian Vrabie\n",
      "\n",
      "Some impressions beforehand: The 'compound interes rate' that is being taught at State University of Moldova (USM) is not an ordinary one and nothing sort of what you may expect. I was not able to find it anywhere in the western literature, so I assume the professor is using some really interesting textbooks. Googling, I was able to find a white paper http://www.margill.com/white-paper-interest.htm that suggests when and why these methods might have been used. \n",
      "\n",
      "So instead of the well familiar to me compound interest rate $ FV = PV(1+i/m)^{mt} $ I actually got 3 formulas in three different flavors: the english, the french and the german methode. Surprisingly, they don't really teach nor mention what you find abundantly in the mainstream western literature.\n",
      "\n",
      "So fasten your seatbelts because I dare you take a look at what they teach in Moldova because the assumptions they make about how interest rates should work are not only intriguing from a historical perspective but can actually reveal how Russian mathematicians think of an interest rate. \n",
      "\n",
      "For example: One of the assumption they make is that the compound interest rate and the simple interest rate *MUST* be THE SAME at the end of the first year! Can we justify such an assumption? From a strict academic perspective: No, however, if we are to put ourselves into the shoes of non-economists, if a bank promises you 10% *a year*, shouldn't you actually get *only* \\$100 from your \\$1000 savings irrespective of what type of calculus the bankers must have taken? Secondly, you'll see how *compounding interest rate* works against you in Soviet Union. \n",
      "\n"
     ]
    },
    {
     "cell_type": "code",
     "collapsed": false,
     "input": [
      "#importing date and numpy\n",
      "import numpy as np\n",
      "import sympy as sym\n",
      "from datetime import date\n",
      "import matplotlib.pyplot as plt"
     ],
     "language": "python",
     "metadata": {},
     "outputs": [],
     "prompt_number": 2
    },
    {
     "cell_type": "markdown",
     "metadata": {},
     "source": [
      "##Problem 1\n",
      "S\u0103 se calculeze suma final\u0103 S lei dac\u0103 a fost plasat\u0103 suma de S0 lei cu rata dob\u00e2nzii 40 % pentru urm\u0103toarele perioade de timp: 1, 60, 120, 180, 240, 300, 360 zile(procedura german\u0103) \u015fi pentru perioadele de timp de 1, 2, 4, 5, 10, 15, 20 ani cu procentul anual de 5%. De g\u0103sit valorile sumei finale \u00een caz de regim de dob\u00e2nd\u0103 simpl\u0103 \u015fi dob\u00e2nd\u0103 compus\u0103 (comercial\u0103). Construi\u0163i graficele \u015fi face\u0163i concluzii.\n",
      "\n",
      "The problem is saying to calculate the simple and 'compound interest rate' for the sum S, for a series of days and years separately. \n",
      "\n",
      "In my opinion, the formulas used below were created with a specific purpose: the assumption that the compound interest rate and the simple interest rate *MUST* be equal at the end of the 1st year!"
     ]
    },
    {
     "cell_type": "code",
     "collapsed": false,
     "input": [
      "# S0 - Present Value\n",
      "S0 = 1000\n",
      "#p1 - is the interest rate applied for the first sequence (days) and p2 for the nr of years.\n",
      "p1 =0.4\n",
      "p2 = 0.05"
     ],
     "language": "python",
     "metadata": {},
     "outputs": [],
     "prompt_number": 3
    },
    {
     "cell_type": "code",
     "collapsed": false,
     "input": [
      "days = np.array([1, 60, 120, 180, 240, 300, 360])\n",
      "years = np.array([1, 2, 4, 5, 10, 15, 20])"
     ],
     "language": "python",
     "metadata": {},
     "outputs": [],
     "prompt_number": 4
    },
    {
     "cell_type": "markdown",
     "metadata": {},
     "source": [
      "There are no surprises for the Simple interest rate: $FV = PV(1+p*n) $ \n",
      "\n",
      "\n",
      "The allegedly English procedure: $ FV = PV(1+p)^{n/365}$, where n is the number of days within a calendar.\n",
      "\n",
      "The allegedly German procedure: $ FV = PV(1+p)^{n/360}$ , germans use 30 days per month, therefore 360 days a year.\n",
      "\n",
      "The allegedly French procedure, is really wicked: $ FV = PV(1+p)^{n/360}$ ,where n is the actual number of calendar days as in the English system. \n",
      "\n",
      "So what happens if you put a deposit for a full year? Well, under the french system you get more than the interest rate and as you probably noticed it violates our assumption, but this doesn't seem to bother anyone! A student carefully made a suggestion in favor of this formula saying that banks in France don't work during the national holidays, so they probably don't calculate interest rates too. \n"
     ]
    },
    {
     "cell_type": "code",
     "collapsed": false,
     "input": [
      "def fv_simple_rate(PV=1, i=0.1, t=1):\n",
      "    return PV*(1+i*t)\n",
      "def fv_compound_rate_special(PV=1, i=0.1, t=1):\n",
      "    \"\"\"\n",
      "    Depending on t, it will be either the German, the French or the English version.\n",
      "    \"\"\"\n",
      "    return PV*(1+i)**t\n",
      "def fv_compound_rate_standard(PV=1, i=0.1, t=1, m=1):\n",
      "    return PV*(1+float(i)/m)**(m*t)\n",
      "    "
     ],
     "language": "python",
     "metadata": {},
     "outputs": [],
     "prompt_number": 5
    },
    {
     "cell_type": "code",
     "collapsed": false,
     "input": [
      "# these functions calculate the number of days/months between two dates\n",
      "def days_between(d0,d1):\n",
      "    delta = d1-d0 # they do not add one day because they assume the day you take your money should not be considered.\n",
      "    return delta.days\n",
      "def months_between(d0,d1):\n",
      "    delta = d1.month-d0.month\n",
      "    return delta\n",
      "def nr_days(d0):\n",
      "    '''\n",
      "    d0 = datetime.date\n",
      "    Nr of days in a specific year\n",
      "    '''\n",
      "    days = date(d0.year,12,31)-date(d0.year,1,1)\n",
      "    return days.days+1"
     ],
     "language": "python",
     "metadata": {},
     "outputs": [],
     "prompt_number": 6
    },
    {
     "cell_type": "code",
     "collapsed": false,
     "input": [
      "def english_t(d0=0, d1=0, n=1):\n",
      "    if (d0 and d1):\n",
      "        n = days_between(d0,d1)\n",
      "        days = nr_days(d1) #in case the year has 366 days\n",
      "        return float(n)/days \n",
      "    return float(n)/365\n",
      "\n",
      "def french_t(d0=0,d1=0,n=1):\n",
      "    if (d0 and d1):\n",
      "        n = days_between(d0,d1)\n",
      "    return float(n)/360\n",
      "\n",
      "def german_t(d0=0, d1=0, n=1):\n",
      "    '''\n",
      "    If the number of days n is given, then assume there are 30 days in a month\n",
      "    '''\n",
      "    if (d0 and d1):\n",
      "        m = months_between(d0,d1)\n",
      "        n = days_between(d0,d1) - 30*m\n",
      "        if n<0:\n",
      "            n = days_between(d0,d1) -30*(m-1)\n",
      "            return float(30*(m-1) + n)/360\n",
      "        return float(30*m + n)/360    \n",
      "    return float(n)/360\n"
     ],
     "language": "python",
     "metadata": {},
     "outputs": [],
     "prompt_number": 7
    },
    {
     "cell_type": "code",
     "collapsed": false,
     "input": [
      "#for example:\n",
      "d0 = date(2014, 10, 15)\n",
      "d1 = date(2016, 11, 1)\n",
      "print days_between(d0,d1)\n",
      "print months_between(d0,d1)\n",
      "print \"nr of days in year:\",d1.year,\"=\", nr_days(d1)\n",
      "print english_t(d0,d1)\n",
      "print french_t(d0,d1)\n",
      "print german_t(d0,d1)"
     ],
     "language": "python",
     "metadata": {},
     "outputs": [
      {
       "output_type": "stream",
       "stream": "stdout",
       "text": [
        "748\n",
        "1\n",
        "nr of days in year: 2016 = 366\n",
        "2.04371584699\n",
        "2.07777777778\n",
        "2.07777777778\n"
       ]
      }
     ],
     "prompt_number": 8
    },
    {
     "cell_type": "code",
     "collapsed": false,
     "input": [
      "# Problem 1\n",
      "#print days\n",
      "\n",
      "fig, ax = plt.subplots()\n",
      "\n",
      "for f,describe in zip([english_t, french_t, german_t], [\"English Version\", \"Version Francaise\", \"Die Deutsche Verfahren\"]):\n",
      "    periods = [f(n=i) for i in days]\n",
      "    simple = [fv_simple_rate(PV=S0, i=p1, t=period) for period in periods]\n",
      "    ax.plot(days, simple, label=\"Simple \"+describe)\n",
      "    compound = [fv_compound_rate_special(PV=S0, i=p1, t=period) for period in periods]\n",
      "    ax.plot(days, compound, label= \"Comp \"+ describe)\n",
      "    \n",
      "\n",
      "legend = ax.legend(loc='lower right', shadow=True)\n",
      "plt.savefig(\"Pics/prob1_1.png\", dpi=400)\n",
      "            \n",
      "plt.show()\n"
     ],
     "language": "python",
     "metadata": {},
     "outputs": [],
     "prompt_number": 16
    },
    {
     "cell_type": "code",
     "collapsed": false,
     "input": [
      "#Problem 1 , years\n",
      "\n",
      "fig, ax = plt.subplots()\n",
      "\n",
      "periods = [i for i in years]\n",
      "for f,describe in zip([english_t, french_t, german_t], [\"English Version\", \"Version Francaise\", \"Die Deutsche Verfahren\"]):\n",
      "    compound = [fv_compound_rate_special(PV=S0, i=p2, t=period) for period in periods]\n",
      "    ax.plot(years, compound, label= \"Comp \"+ describe)\n",
      "\n",
      "simple = [fv_simple_rate(PV=S0, i=p2, t=period) for period in periods]\n",
      "ax.plot(years, simple, label=\"Simple interest\")    \n",
      "\n",
      "compound = [fv_compound_rate_standard(PV=S0, i=p2, m=360, t=period) for period in periods]\n",
      "ax.plot(years, compound, label=\"Standard Compounding\")\n",
      "legend = ax.legend(loc='lower right', shadow=True)\n",
      "\n",
      "plt.show()"
     ],
     "language": "python",
     "metadata": {},
     "outputs": [],
     "prompt_number": 14
    },
    {
     "cell_type": "code",
     "collapsed": false,
     "input": [
      "for f,describe in zip([english_t, french_t, german_t], [\"English Version\", \"Version Fran\u00e7aise\", \"Die Deutsche Verfahren\"]):\n",
      "    periods = [f(n=i) for i in days]\n",
      "    print describe\n",
      "    print \"The simple rate \",[fv_simple_rate(PV=S0, i=p1, t=period) for period in periods]\n",
      "    \n",
      "    print \"The compounding version\", [fv_compound_rate_special(PV=S0, i=p2, t=period) for period in periods]\n",
      "       \n",
      "    print \"The Standard Compounding\", [fv_compound_rate_standard(PV=S0, i=p2, t=1, m=period) for period in periods]\n"
     ],
     "language": "python",
     "metadata": {},
     "outputs": [
      {
       "output_type": "stream",
       "stream": "stdout",
       "text": [
        "English Version\n",
        "The simple rate  [1001.0958904109588, 1065.7534246575342, 1131.5068493150684, 1197.2602739726028, 1263.013698630137, 1328.7671232876712, 1394.5205479452054]\n",
        "The compounding version [1000.1336806171134, 1008.0525497303945, 1016.1699430179497, 1024.3527020186339, 1032.601353093103, 1040.9164268405577, 1049.2984581328758]\n",
        "The Standard Compounding [1008.1356863147826, 1044.6212714766853, 1047.644368756057, 1048.7768209625874, 1049.370172850834, 1049.735430209312, 1049.9829289129827]\n",
        "Version Fran\u00e7aise\n",
        "The simple rate  [1001.1111111111111, 1066.6666666666667, 1133.3333333333333, 1200.0, 1266.6666666666665, 1333.3333333333335, 1400.0]\n",
        "The compounding version [1000.13553741817, 1008.164846051901, 1016.3963568148536, 1024.69507659596, 1033.061554146507, 1041.4963426982508, 1050.0]\n",
        "The Standard Compounding [1008.2125365387838, 1044.6975079232773, 1047.6895531716473, 1048.8088481701516, 1049.3949651125492, 1049.7556506666997, 1050.0]\n",
        "Die Deutsche Verfahren\n",
        "The simple rate  [1001.1111111111111, 1066.6666666666667, 1133.3333333333333, 1200.0, 1266.6666666666665, 1333.3333333333335, 1400.0]\n",
        "The compounding version [1000.13553741817, 1008.164846051901, 1016.3963568148536, 1024.69507659596, 1033.061554146507, 1041.4963426982508, 1050.0]\n",
        "The Standard Compounding [1008.2125365387838, 1044.6975079232773, 1047.6895531716473, 1048.8088481701516, 1049.3949651125492, 1049.7556506666997, 1050.0]\n"
       ]
      }
     ],
     "prompt_number": 26
    },
    {
     "cell_type": "markdown",
     "metadata": {},
     "source": [
      "### Problem 2\n",
      "\u00cen c\u00e2te zile suma de S0 lei va deveni S cu rata dob\u00e2nzii p %.(dob\u00e2nd\u0103 simpl\u0103 \u015fi dob\u00e2nd\u0103 compus\u0103 comercial\u0103)."
     ]
    },
    {
     "cell_type": "code",
     "collapsed": false,
     "input": [
      "S=4200\n",
      "x = sym.symbols('x')\n",
      "sym.var('i PV FV t')\n",
      "simple_interest = sym.Eq(FV,PV*(1+i*t))\n"
     ],
     "language": "python",
     "metadata": {},
     "outputs": [],
     "prompt_number": 28
    },
    {
     "cell_type": "code",
     "collapsed": false,
     "input": [
      "sym.init_printing()\n",
      "simple_interest"
     ],
     "language": "python",
     "metadata": {},
     "outputs": [
      {
       "latex": [
        "$$FV = PV \\left(i t + 1\\right)$$"
       ],
       "metadata": {},
       "output_type": "pyout",
       "png": "[encoded data removed]",
       "prompt_number": 29,
       "text": [
        "FV = PV\u22c5(i\u22c5t + 1)"
       ]
      }
     ],
     "prompt_number": 29
    },
    {
     "cell_type": "code",
     "collapsed": false,
     "input": [
      "sym.solve(simple_interest,t)"
     ],
     "language": "python",
     "metadata": {},
     "outputs": [
      {
       "latex": [
        "$$\\begin{bmatrix}\\frac{FV - PV}{PV i}\\end{bmatrix}$$"
       ],
       "metadata": {},
       "output_type": "pyout",
       "png": "[encoded data removed]",
       "prompt_number": 30,
       "text": [
        "\u23a1FV - PV\u23a4\n",
        "\u23a2\u2500\u2500\u2500\u2500\u2500\u2500\u2500\u23a5\n",
        "\u23a3  PV\u22c5i \u23a6"
       ]
      }
     ],
     "prompt_number": 30
    },
    {
     "cell_type": "code",
     "collapsed": false,
     "input": [
      "plt.plot(x,y,'o')"
     ],
     "language": "python",
     "metadata": {},
     "outputs": [
      {
       "metadata": {},
       "output_type": "pyout",
       "prompt_number": 34,
       "text": [
        "[<matplotlib.lines.Line2D at 0x7f60a8fcdbd0>]"
       ]
      },
      {
       "metadata": {},
       "output_type": "display_data",
       "png": "[encoded data removed]",
       "text": [
        "<matplotlib.figure.Figure at 0x7f60a9457650>"
       ]
      }
     ],
     "prompt_number": 34
    },
    {
     "cell_type": "code",
     "collapsed": false,
     "input": [
      "print (\"hello world)"
     ],
     "language": "python",
     "metadata": {},
     "outputs": [
      {
       "output_type": "stream",
       "stream": "stdout",
       "text": [
        "hello world\n"
       ]
      }
     ],
     "prompt_number": "*"
    },
    {
     "cell_type": "code",
     "collapsed": false,
     "input": [],
     "language": "python",
     "metadata": {},
     "outputs": []
    }
   ],
   "metadata": {}
  }
 ]
}