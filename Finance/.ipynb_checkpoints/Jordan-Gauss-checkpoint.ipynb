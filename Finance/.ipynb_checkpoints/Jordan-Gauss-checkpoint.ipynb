{
 "metadata": {
  "name": ""
 },
 "nbformat": 3,
 "nbformat_minor": 0,
 "worksheets": [
  {
   "cells": [
    {
     "cell_type": "code",
     "collapsed": false,
     "input": [
      "import numpy as np\n"
     ],
     "language": "python",
     "metadata": {},
     "outputs": [],
     "prompt_number": 105
    },
    {
     "cell_type": "code",
     "collapsed": false,
     "input": [
      "rows, cols = 5, 5\n",
      "A = np.array([np.random.randint(1,10,size=cols) for i in range(rows)], dtype=float)\n",
      "A2 = A.copy()\n",
      "I = np.identity(rows)\n",
      "print A, \"\\n\\n\", I\n"
     ],
     "language": "python",
     "metadata": {},
     "outputs": [
      {
       "output_type": "stream",
       "stream": "stdout",
       "text": [
        "[[ 7.  7.  8.  5.  7.]\n",
        " [ 1.  8.  3.  8.  1.]\n",
        " [ 2.  9.  4.  2.  7.]\n",
        " [ 1.  4.  8.  1.  4.]\n",
        " [ 3.  5.  9.  9.  4.]] \n",
        "\n",
        "[[ 1.  0.  0.  0.  0.]\n",
        " [ 0.  1.  0.  0.  0.]\n",
        " [ 0.  0.  1.  0.  0.]\n",
        " [ 0.  0.  0.  1.  0.]\n",
        " [ 0.  0.  0.  0.  1.]]\n"
       ]
      }
     ],
     "prompt_number": 112
    },
    {
     "cell_type": "code",
     "collapsed": false,
     "input": [
      "for j in range(cols):\n",
      "    I[j] = I[j]/A[j,j]\n",
      "    A[j] = A[j]/A[j,j]\n",
      "    \n",
      "    for i in range(j+1,rows):\n",
      "        I[i] = I[i]-A[i,j]*I[j]\n",
      "        A[i] = A[i]-A[i,j]*A[j]\n",
      "        \n"
     ],
     "language": "python",
     "metadata": {},
     "outputs": [],
     "prompt_number": 113
    },
    {
     "cell_type": "code",
     "collapsed": false,
     "input": [
      "print A, \"\\n\\n\", I"
     ],
     "language": "python",
     "metadata": {},
     "outputs": [
      {
       "output_type": "stream",
       "stream": "stdout",
       "text": [
        "[[  1.           1.           1.14285714   0.71428571   1.        ]\n",
        " [  0.           1.           0.26530612   1.04081633   0.        ]\n",
        " [ -0.          -0.           1.          47.         -35.        ]\n",
        " [ -0.          -0.          -0.           1.          -0.74776564]\n",
        " [  0.           0.           0.           0.           1.        ]] \n",
        "\n",
        "[[  1.42857143e-01   0.00000000e+00   0.00000000e+00   0.00000000e+00\n",
        "    0.00000000e+00]\n",
        " [ -2.04081633e-02   1.42857143e-01   0.00000000e+00   0.00000000e+00\n",
        "    0.00000000e+00]\n",
        " [  1.00000000e+00   7.00000000e+00  -7.00000000e+00  -0.00000000e+00\n",
        "   -0.00000000e+00]\n",
        " [  2.13505462e-02   1.48957299e-01  -1.47467726e-01  -3.47567031e-03\n",
        "   -0.00000000e+00]\n",
        " [ -1.22963538e-01  -2.58339798e-01   2.73985001e-01  -2.10111197e-01\n",
        "    2.60408585e-01]]\n"
       ]
      }
     ],
     "prompt_number": 114
    },
    {
     "cell_type": "code",
     "collapsed": false,
     "input": [
      "for j in range(rows-1):\n",
      "    for i in range(j+1,rows):\n",
      "        I[j] = I[j] - I[i]*A[j,i]\n",
      "        A[j] = A[j] - A[i]*A[j,i]\n",
      "\n",
      "print A, \"\\n\\n\", I"
     ],
     "language": "python",
     "metadata": {},
     "outputs": [
      {
       "output_type": "stream",
       "stream": "stdout",
       "text": [
        "[[ 1.  0.  0.  0.  0.]\n",
        " [ 0.  1.  0.  0.  0.]\n",
        " [ 0.  0.  1.  0.  0.]\n",
        " [ 0.  0.  0.  1.  0.]\n",
        " [ 0.  0.  0.  0.  1.]] \n",
        "\n",
        "[[ 0.25058185  0.06904577 -0.15981381 -0.01241272 -0.16369279]\n",
        " [ 0.04926299  0.17920869 -0.03090251  0.11572278 -0.19265581]\n",
        " [ 0.01435221  0.03646237 -0.10874063  0.1938195  -0.03775537]\n",
        " [-0.07059736 -0.04422033  0.05740884 -0.1605896   0.19472459]\n",
        " [-0.12296354 -0.2583398   0.273985   -0.2101112   0.26040859]]\n"
       ]
      }
     ],
     "prompt_number": 115
    },
    {
     "cell_type": "code",
     "collapsed": false,
     "input": [
      "np.dot(I,A2).round(decimals=3)"
     ],
     "language": "python",
     "metadata": {},
     "outputs": [
      {
       "metadata": {},
       "output_type": "pyout",
       "prompt_number": 129,
       "text": [
        "array([[ 1., -0., -0., -0.,  0.],\n",
        "       [-0.,  1., -0., -0., -0.],\n",
        "       [-0., -0.,  1., -0., -0.],\n",
        "       [ 0.,  0.,  0.,  1.,  0.],\n",
        "       [ 0.,  0.,  0.,  0.,  1.]])"
       ]
      }
     ],
     "prompt_number": 129
    },
    {
     "cell_type": "code",
     "collapsed": false,
     "input": [
      "I.round(decimals=4)"
     ],
     "language": "python",
     "metadata": {},
     "outputs": [
      {
       "metadata": {},
       "output_type": "pyout",
       "prompt_number": 130,
       "text": [
        "array([[ 0.2506,  0.069 , -0.1598, -0.0124, -0.1637],\n",
        "       [ 0.0493,  0.1792, -0.0309,  0.1157, -0.1927],\n",
        "       [ 0.0144,  0.0365, -0.1087,  0.1938, -0.0378],\n",
        "       [-0.0706, -0.0442,  0.0574, -0.1606,  0.1947],\n",
        "       [-0.123 , -0.2583,  0.274 , -0.2101,  0.2604]])"
       ]
      }
     ],
     "prompt_number": 130
    },
    {
     "cell_type": "code",
     "collapsed": false,
     "input": [],
     "language": "python",
     "metadata": {},
     "outputs": []
    }
   ],
   "metadata": {}
  }
 ]
}