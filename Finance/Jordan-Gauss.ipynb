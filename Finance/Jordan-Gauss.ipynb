{
 "metadata": {
  "name": ""
 },
 "nbformat": 3,
 "nbformat_minor": 0,
 "worksheets": [
  {
   "cells": [
    {
     "cell_type": "code",
     "collapsed": false,
     "input": [
      "import numpy as np\n",
      "import sympy as sym"
     ],
     "language": "python",
     "metadata": {},
     "outputs": [],
     "prompt_number": 2
    },
    {
     "cell_type": "code",
     "collapsed": false,
     "input": [],
     "language": "python",
     "metadata": {},
     "outputs": [],
     "prompt_number": 2
    },
    {
     "cell_type": "heading",
     "level": 1,
     "metadata": {},
     "source": [
      "Matrix Inverse (minimum)"
     ]
    },
    {
     "cell_type": "code",
     "collapsed": false,
     "input": [
      "rows = 3\n",
      "cols = rows\n",
      "A = np.array([np.random.randint(1,10,size=cols) for i in range(rows)], dtype=float)\n",
      "\n",
      "A2 = A.copy()\n",
      "\n",
      "I = np.identity(rows)\n",
      "\n",
      "print A, \"\\n\\n\", I\n"
     ],
     "language": "python",
     "metadata": {},
     "outputs": [
      {
       "output_type": "stream",
       "stream": "stdout",
       "text": [
        "[[ 5.  3.  9.]\n",
        " [ 9.  8.  8.]\n",
        " [ 4.  1.  7.]] \n",
        "\n",
        "[[ 1.  0.  0.]\n",
        " [ 0.  1.  0.]\n",
        " [ 0.  0.  1.]]\n"
       ]
      }
     ],
     "prompt_number": 7
    },
    {
     "cell_type": "code",
     "collapsed": false,
     "input": [
      "A[0]/A[0][0]"
     ],
     "language": "python",
     "metadata": {},
     "outputs": [
      {
       "metadata": {},
       "output_type": "pyout",
       "prompt_number": 14,
       "text": [
        "array([ 1. ,  0.6,  1.8])"
       ]
      }
     ],
     "prompt_number": 14
    },
    {
     "cell_type": "code",
     "collapsed": false,
     "input": [
      "for j in range(cols):\n",
      "    I[j] = I[j]/A[j,j]\n",
      "    A[j] = A[j]/A[j,j]\n",
      "    \n",
      "    for i in range(j+1,rows):\n",
      "        I[i] = I[i]-A[i,j]*I[j]\n",
      "        A[i] = A[i]-A[i,j]*A[j]\n",
      "        \n",
      "for j in range(rows-1):\n",
      "    for i in range(j+1,rows):\n",
      "        I[j] = I[j] - I[i]*A[j,i]\n",
      "        A[j] = A[j] - A[i]*A[j,i]\n",
      "\n",
      "print A, \"\\n\\n\", I"
     ],
     "language": "python",
     "metadata": {},
     "outputs": [
      {
       "output_type": "stream",
       "stream": "stdout",
       "text": [
        "[[ 1.  0.  0.]\n",
        " [ 0.  1.  0.]\n",
        " [-0. -0.  1.]] \n",
        "\n",
        "[[-0.8         0.2         0.8       ]\n",
        " [ 0.51666667  0.01666667 -0.68333333]\n",
        " [ 0.38333333 -0.11666667 -0.21666667]]\n"
       ]
      }
     ],
     "prompt_number": 16
    },
    {
     "cell_type": "code",
     "collapsed": false,
     "input": [],
     "language": "python",
     "metadata": {},
     "outputs": [],
     "prompt_number": 16
    },
    {
     "cell_type": "code",
     "collapsed": false,
     "input": [
      "np.dot(I,A2).round(decimals=6)\n"
     ],
     "language": "python",
     "metadata": {},
     "outputs": [
      {
       "metadata": {},
       "output_type": "pyout",
       "prompt_number": 22,
       "text": [
        "array([[ 1., -0., -0.],\n",
        "       [ 0.,  1.,  0.],\n",
        "       [ 0.,  0.,  1.]])"
       ]
      }
     ],
     "prompt_number": 22
    },
    {
     "cell_type": "code",
     "collapsed": false,
     "input": [
      "I.round(decimals=4)"
     ],
     "language": "python",
     "metadata": {},
     "outputs": [
      {
       "metadata": {},
       "output_type": "pyout",
       "prompt_number": 5,
       "text": [
        "array([[-0.0162,  0.1273,  0.0305,  0.0328, -0.2315],\n",
        "       [-0.1853, -0.0757,  0.1614,  0.045 ,  0.1503],\n",
        "       [ 0.3124,  0.0139, -0.0486, -0.0932, -0.2399],\n",
        "       [-0.0803,  0.025 ,  0.0411, -0.0903,  0.2617],\n",
        "       [ 0.1694, -0.0416, -0.1755,  0.086 , -0.0141]])"
       ]
      }
     ],
     "prompt_number": 5
    },
    {
     "cell_type": "code",
     "collapsed": false,
     "input": [
      "M = sym.Matrix(A)\n",
      "M"
     ],
     "language": "python",
     "metadata": {},
     "outputs": [
      {
       "metadata": {},
       "output_type": "pyout",
       "prompt_number": 6,
       "text": [
        "Matrix([\n",
        "[1.0, 0.0, 0.0, 0.0, 0.0],\n",
        "[0.0, 1.0, 0.0, 0.0, 0.0],\n",
        "[0.0, 0.0, 1.0, 0.0, 0.0],\n",
        "[0.0, 0.0, 0.0, 1.0, 0.0],\n",
        "[0.0, 0.0, 0.0, 0.0, 1.0]])"
       ]
      }
     ],
     "prompt_number": 6
    },
    {
     "cell_type": "code",
     "collapsed": false,
     "input": [
      "rows, cols = 5, 5\n",
      "A = np.array([np.random.randint(1,10,size=cols) for i in range(rows)], dtype=float)\n",
      "A2 = A.copy()\n",
      "I = np.identity(rows)\n",
      "print A, \"\\n\\n\", I\n"
     ],
     "language": "python",
     "metadata": {},
     "outputs": [
      {
       "output_type": "stream",
       "stream": "stdout",
       "text": [
        "[[ 6.  7.  7.  2.  9.]\n",
        " [ 3.  7.  5.  1.  9.]\n",
        " [ 5.  3.  7.  9.  3.]\n",
        " [ 2.  9.  2.  3.  3.]\n",
        " [ 3.  6.  6.  6.  8.]] \n",
        "\n",
        "[[ 1.  0.  0.  0.  0.]\n",
        " [ 0.  1.  0.  0.  0.]\n",
        " [ 0.  0.  1.  0.  0.]\n",
        " [ 0.  0.  0.  1.  0.]\n",
        " [ 0.  0.  0.  0.  1.]]\n"
       ]
      }
     ],
     "prompt_number": 7
    },
    {
     "cell_type": "heading",
     "level": 1,
     "metadata": {},
     "source": [
      "Jordan Gauss with row swapping"
     ]
    },
    {
     "cell_type": "code",
     "collapsed": false,
     "input": [
      "def check_zeros(A,I,row, col=0):\n",
      "    \"\"\"\n",
      "    returns recursively the next non zero matrix row A[i]\n",
      "    \"\"\"\n",
      "    if A[row, col] != 0:\n",
      "        return row\n",
      "    else:\n",
      "        if row+1 == len(A):\n",
      "            return \"The Determinant is Zero\"\n",
      "        return check_zeros(A,I,row+1, col)\n",
      "\n",
      "def swap_rows(M,I,row,index):\n",
      "    \"\"\"\n",
      "    swaps two rows in a matrix\n",
      "    \"\"\"\n",
      "    swap = M[row].copy()\n",
      "    M[row], M[index] = M[index], swap\n",
      "    swap = I[row].copy()\n",
      "    I[row], I[index] = I[index], swap"
     ],
     "language": "python",
     "metadata": {},
     "outputs": [],
     "prompt_number": 25
    },
    {
     "cell_type": "code",
     "collapsed": false,
     "input": [
      "M = np.array([[0,1,5,2],[0,4,9,23],[5,4,3,5],[2,3,1,5]], dtype=float)\n",
      "I = np.identity(len(M))\n",
      "print check_zeros(M, I, 0, 0)\n",
      "M_copy = M.copy()\n",
      "rows = len(M)"
     ],
     "language": "python",
     "metadata": {},
     "outputs": [
      {
       "output_type": "stream",
       "stream": "stdout",
       "text": [
        "2\n"
       ]
      }
     ],
     "prompt_number": 26
    },
    {
     "cell_type": "code",
     "collapsed": false,
     "input": [
      "for i in range(rows):\n",
      "    index =check_zeros(M,I,i,i)\n",
      "    while index>i:\n",
      "        swap_rows(M, I, i, index)\n",
      "        index =check_zeros(M,I,i,i)\n",
      "    \n",
      "    I[i]=I[i]/M[i,i]\n",
      "    M[i]=M[i]/M[i,i]\n",
      "    \n",
      "    for j in range(rows):\n",
      "        if j !=i:\n",
      "            I[j] = I[j] - I[i]*M[j,i]\n",
      "            M[j] = M[j] - M[i]*M[j,i]\n",
      "            "
     ],
     "language": "python",
     "metadata": {},
     "outputs": [],
     "prompt_number": 27
    },
    {
     "cell_type": "code",
     "collapsed": false,
     "input": [
      "print M\n",
      "print I"
     ],
     "language": "python",
     "metadata": {},
     "outputs": [
      {
       "output_type": "stream",
       "stream": "stdout",
       "text": [
        "[[ 1.  0.  0.  0.]\n",
        " [ 0.  1.  0.  0.]\n",
        " [ 0.  0.  1.  0.]\n",
        " [-0. -0. -0.  1.]]\n",
        "[[-0.2268431   0.04725898  0.41776938 -0.54442344]\n",
        " [ 0.29867675 -0.14555766 -0.36672968  0.9168242 ]\n",
        " [ 0.19092628  0.00189036  0.05671078 -0.14177694]\n",
        " [-0.12665406  0.06805293  0.0415879  -0.10396975]]\n"
       ]
      }
     ],
     "prompt_number": 28
    },
    {
     "cell_type": "code",
     "collapsed": false,
     "input": [
      "print M_copy\n",
      "np.dot(I, M_copy).round(6)"
     ],
     "language": "python",
     "metadata": {},
     "outputs": [
      {
       "output_type": "stream",
       "stream": "stdout",
       "text": [
        "[[  0.   1.   5.   2.]\n",
        " [  0.   4.   9.  23.]\n",
        " [  5.   4.   3.   5.]\n",
        " [  2.   3.   1.   5.]]\n"
       ]
      },
      {
       "metadata": {},
       "output_type": "pyout",
       "prompt_number": 29,
       "text": [
        "array([[ 1.,  0.,  0.,  0.],\n",
        "       [ 0.,  1., -0., -0.],\n",
        "       [ 0.,  0.,  1.,  0.],\n",
        "       [ 0.,  0.,  0.,  1.]])"
       ]
      }
     ],
     "prompt_number": 29
    },
    {
     "cell_type": "code",
     "collapsed": false,
     "input": [],
     "language": "python",
     "metadata": {},
     "outputs": [],
     "prompt_number": 255
    }
   ],
   "metadata": {}
  }
 ]
}