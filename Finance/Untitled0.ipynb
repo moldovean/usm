{
 "metadata": {
  "name": ""
 },
 "nbformat": 3,
 "nbformat_minor": 0,
 "worksheets": [
  {
   "cells": [
    {
     "cell_type": "code",
     "collapsed": false,
     "input": [
      "import sympy as sym\n",
      "from matplotlib import pyplot as plt\n",
      "import numpy as np\n",
      "import math\n",
      "\n"
     ],
     "language": "python",
     "metadata": {},
     "outputs": [],
     "prompt_number": 13
    },
    {
     "cell_type": "code",
     "collapsed": false,
     "input": [
      "\n",
      "def poi(lam=1, k=1):\n",
      "    return (lam**k * math.e**(-lam)) / math.factorial(k)\n",
      "\n",
      "x = np.arange(16)\n",
      "colors = [\"#A60628\",  \"#0052CC\"]\n",
      "lambdas = [1.0,  3.5]\n",
      "\n",
      "fig, ax = plt.subplots()\n",
      "for lam, col in zip(lambdas, colors):\n",
      "    ax.bar(x, [poi(lam, x1) for x1 in x ], color= col, alpha=0.55, label =\"$\\lambda =%.1f $\" %lam)\n",
      "\n",
      "plt.xticks(x + .4, x)\n",
      "plt.legend()\n",
      "plt.show()\n"
     ],
     "language": "python",
     "metadata": {},
     "outputs": [],
     "prompt_number": 47
    },
    {
     "cell_type": "code",
     "collapsed": false,
     "input": [
      "[poi(lambdas[0], x1) for x1 in x ]"
     ],
     "language": "python",
     "metadata": {},
     "outputs": [
      {
       "metadata": {},
       "output_type": "pyout",
       "prompt_number": 26,
       "text": [
        "[0.36787944117144233,\n",
        " 0.36787944117144233,\n",
        " 0.18393972058572117,\n",
        " 0.06131324019524039,\n",
        " 0.015328310048810098,\n",
        " 0.0030656620097620196,\n",
        " 0.0005109436682936699,\n",
        " 7.299195261338141e-05,\n",
        " 9.123994076672677e-06,\n",
        " 1.0137771196302974e-06,\n",
        " 1.0137771196302975e-07,\n",
        " 9.216155633002704e-09,\n",
        " 7.68012969416892e-10,\n",
        " 5.907792072437631e-11,\n",
        " 4.2198514803125934e-12,\n",
        " 2.8132343202083955e-13]"
       ]
      }
     ],
     "prompt_number": 26
    },
    {
     "cell_type": "code",
     "collapsed": false,
     "input": [],
     "language": "python",
     "metadata": {},
     "outputs": []
    }
   ],
   "metadata": {}
  }
 ]
}